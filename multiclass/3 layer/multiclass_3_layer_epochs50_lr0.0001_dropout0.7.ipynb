{
 "cells": [
  {
   "cell_type": "code",
   "execution_count": 1,
   "metadata": {},
   "outputs": [
    {
     "name": "stderr",
     "output_type": "stream",
     "text": [
      "/usr/local/lib/python2.7/dist-packages/h5py/__init__.py:36: FutureWarning: Conversion of the second argument of issubdtype from `float` to `np.floating` is deprecated. In future, it will be treated as `np.float64 == np.dtype(float).type`.\n",
      "  from ._conv import register_converters as _register_converters\n",
      "Using TensorFlow backend.\n",
      "/usr/local/lib/python2.7/dist-packages/sklearn/cross_validation.py:44: DeprecationWarning: This module was deprecated in version 0.18 in favor of the model_selection module into which all the refactored classes and functions are moved. Also note that the interface of the new CV iterators are different from that of this module. This module will be removed in 0.20.\n",
      "  \"This module will be removed in 0.20.\", DeprecationWarning)\n"
     ]
    }
   ],
   "source": [
    "import numpy as np\n",
    "from keras.models import Sequential\n",
    "from keras.optimizers import RMSprop\n",
    "from keras.layers import Dense, Dropout, Activation, Flatten\n",
    "from keras.layers import Conv2D, MaxPooling2D, Lambda\n",
    "from keras.layers import Dense\n",
    "from keras.wrappers.scikit_learn import KerasClassifier\n",
    "from keras.utils import np_utils\n",
    "from keras.preprocessing.image import ImageDataGenerator\n",
    "from sklearn.model_selection import cross_val_score\n",
    "from sklearn.model_selection import KFold\n",
    "from sklearn.preprocessing import LabelEncoder\n",
    "from sklearn.pipeline import Pipeline\n",
    "from sklearn.cross_validation import train_test_split\n",
    "from sklearn.metrics import roc_curve, auc\n",
    "import csv\n",
    "import cv2\n",
    "import scipy\n",
    "import os\n",
    "\n",
    "%matplotlib inline\n",
    "import matplotlib.pyplot as plt"
   ]
  },
  {
   "cell_type": "code",
   "execution_count": 2,
   "metadata": {},
   "outputs": [],
   "source": [
    "num_classes = 4\n",
    "epochs = 50\n",
    "dropout =0.7\n",
    "learning_rate = 0.0001\n",
    "# BASE_PATH = '/home/ec2-user/cell_classifier/'\n",
    "BASE_DIR = '../'\n",
    "batch_size = 32"
   ]
  },
  {
   "cell_type": "code",
   "execution_count": 3,
   "metadata": {},
   "outputs": [],
   "source": [
    "def get_model():\n",
    "    model = Sequential()\n",
    "    model.add(Lambda(lambda x: x/127.5 - 1., input_shape=(240, 320, 3), output_shape=(240, 320, 3)))\n",
    "    model.add(Conv2D(32, (3, 3), input_shape=(240, 320, 3)))\n",
    "    model.add(Activation('relu'))\n",
    "    model.add(MaxPooling2D(pool_size=(2, 2)))\n",
    "\n",
    "    model.add(Conv2D(32, (3, 3)))\n",
    "    model.add(Activation('relu'))\n",
    "    model.add(MaxPooling2D(pool_size=(2, 2)))\n",
    "    \n",
    "    model.add(Conv2D(64, (3, 3)))\n",
    "    model.add(Activation('relu'))\n",
    "    model.add(MaxPooling2D(pool_size=(2, 2)))\n",
    "\n",
    "    model.add(Flatten())  # this converts our 3D feature maps to 1D feature vectors\n",
    "    model.add(Dense(64))\n",
    "    model.add(Activation('relu'))\n",
    "    model.add(Dropout(dropout))\n",
    "    model.add(Dense(num_classes))\n",
    "    model.add(Activation('softmax'))\n",
    "    rms = RMSprop(lr = learning_rate,)\n",
    "    model.compile(loss='categorical_crossentropy',\n",
    "                optimizer= rms,\n",
    "                metrics=['accuracy'])\n",
    "\n",
    "    return model"
   ]
  },
  {
   "cell_type": "code",
   "execution_count": 4,
   "metadata": {},
   "outputs": [],
   "source": [
    "def get_data(folder):\n",
    "    X = []\n",
    "    y = []\n",
    "\n",
    "    for wbc_type in os.listdir(folder):\n",
    "        if not wbc_type.startswith('.'):\n",
    "            for image_filename in os.listdir(folder + wbc_type):\n",
    "                img_file = cv2.imread(folder + wbc_type + '/' + image_filename)\n",
    "                if img_file is not None:\n",
    "                    img_file = scipy.misc.imresize(arr=img_file, size=(240, 320, 3))\n",
    "                    img_arr = np.asarray(img_file)\n",
    "                    X.append(img_arr)\n",
    "                    y.append(wbc_type)\n",
    "    X = np.asarray(X)\n",
    "    y = np.asarray(y)\n",
    "    return X,y"
   ]
  },
  {
   "cell_type": "code",
   "execution_count": 5,
   "metadata": {
    "scrolled": true
   },
   "outputs": [
    {
     "name": "stderr",
     "output_type": "stream",
     "text": [
      "/usr/local/lib/python2.7/dist-packages/scipy/misc/pilutil.py:480: FutureWarning: Conversion of the second argument of issubdtype from `int` to `np.signedinteger` is deprecated. In future, it will be treated as `np.int64 == np.dtype(int).type`.\n",
      "  if issubdtype(ts, int):\n",
      "/usr/local/lib/python2.7/dist-packages/scipy/misc/pilutil.py:483: FutureWarning: Conversion of the second argument of issubdtype from `float` to `np.floating` is deprecated. In future, it will be treated as `np.float64 == np.dtype(float).type`.\n",
      "  elif issubdtype(type(size), float):\n"
     ]
    }
   ],
   "source": [
    "X_train, y_train = get_data(BASE_DIR + 'images/TRAIN/')\n",
    "X_test, y_test = get_data(BASE_DIR + 'images/TEST/')\n",
    "\n",
    "encoder = LabelEncoder()\n",
    "encoder.fit(y_train)\n",
    "encoded_y_train = encoder.transform(y_train)\n",
    "encoded_y_test = encoder.transform(y_test)\n",
    "\n",
    "y_train = np_utils.to_categorical(encoded_y_train)\n",
    "y_test = np_utils.to_categorical(encoded_y_test)"
   ]
  },
  {
   "cell_type": "code",
   "execution_count": 6,
   "metadata": {},
   "outputs": [
    {
     "name": "stdout",
     "output_type": "stream",
     "text": [
      "Train on 7965 samples, validate on 1992 samples\n",
      "Epoch 1/50\n",
      "7965/7965 [==============================] - 123s - loss: 1.3164 - acc: 0.3212 - val_loss: 2.0713 - val_acc: 0.0000e+00\n",
      "Epoch 2/50\n",
      "7965/7965 [==============================] - 91s - loss: 1.2478 - acc: 0.3733 - val_loss: 2.3098 - val_acc: 0.0000e+00\n",
      "Epoch 3/50\n",
      "7965/7965 [==============================] - 90s - loss: 1.1772 - acc: 0.4254 - val_loss: 2.5877 - val_acc: 0.0000e+00\n",
      "Epoch 4/50\n",
      "7965/7965 [==============================] - 91s - loss: 1.1388 - acc: 0.4571 - val_loss: 2.5380 - val_acc: 0.0000e+00\n",
      "Epoch 5/50\n",
      "7965/7965 [==============================] - 93s - loss: 1.0953 - acc: 0.4739 - val_loss: 2.5629 - val_acc: 0.0000e+00\n",
      "Epoch 6/50\n",
      "7965/7965 [==============================] - 93s - loss: 1.0490 - acc: 0.5190 - val_loss: 2.4271 - val_acc: 0.0000e+00\n",
      "Epoch 7/50\n",
      "7965/7965 [==============================] - 93s - loss: 1.0112 - acc: 0.5405 - val_loss: 2.3570 - val_acc: 0.0000e+00\n",
      "Epoch 8/50\n",
      "7965/7965 [==============================] - 95s - loss: 0.9606 - acc: 0.5636 - val_loss: 2.4957 - val_acc: 0.0000e+00\n",
      "Epoch 9/50\n",
      "7965/7965 [==============================] - 95s - loss: 0.9233 - acc: 0.5749 - val_loss: 2.1828 - val_acc: 0.0000e+00\n",
      "Epoch 10/50\n",
      "7965/7965 [==============================] - 95s - loss: 0.8871 - acc: 0.5838 - val_loss: 2.1842 - val_acc: 0.0000e+00\n",
      "Epoch 11/50\n",
      "7965/7965 [==============================] - 95s - loss: 0.8511 - acc: 0.5955 - val_loss: 1.8651 - val_acc: 0.0000e+00\n",
      "Epoch 12/50\n",
      "7965/7965 [==============================] - 95s - loss: 0.8205 - acc: 0.6141 - val_loss: 2.1058 - val_acc: 0.0000e+00\n",
      "Epoch 13/50\n",
      "7965/7965 [==============================] - 95s - loss: 0.7878 - acc: 0.6203 - val_loss: 1.9955 - val_acc: 5.0201e-04\n",
      "Epoch 14/50\n",
      "7965/7965 [==============================] - 96s - loss: 0.7644 - acc: 0.6363 - val_loss: 1.8931 - val_acc: 0.0693\n",
      "Epoch 15/50\n",
      "7965/7965 [==============================] - 98s - loss: 0.7230 - acc: 0.6580 - val_loss: 1.4747 - val_acc: 0.4016\n",
      "Epoch 16/50\n",
      "7965/7965 [==============================] - 98s - loss: 0.7116 - acc: 0.6640 - val_loss: 1.5413 - val_acc: 0.4623\n",
      "Epoch 17/50\n",
      "7965/7965 [==============================] - 97s - loss: 0.6855 - acc: 0.6731 - val_loss: 1.3449 - val_acc: 0.5512\n",
      "Epoch 18/50\n",
      "7965/7965 [==============================] - 96s - loss: 0.6678 - acc: 0.6937 - val_loss: 1.3946 - val_acc: 0.5356\n",
      "Epoch 19/50\n",
      "7965/7965 [==============================] - 95s - loss: 0.6310 - acc: 0.7153 - val_loss: 1.3322 - val_acc: 0.5899\n",
      "Epoch 20/50\n",
      "7965/7965 [==============================] - 96s - loss: 0.6182 - acc: 0.7207 - val_loss: 1.8191 - val_acc: 0.3077\n",
      "Epoch 21/50\n",
      "7965/7965 [==============================] - 98s - loss: 0.6031 - acc: 0.7266 - val_loss: 1.0548 - val_acc: 0.6702\n",
      "Epoch 22/50\n",
      "7965/7965 [==============================] - 94s - loss: 0.5701 - acc: 0.7401 - val_loss: 1.2164 - val_acc: 0.6155\n",
      "Epoch 23/50\n",
      "7965/7965 [==============================] - 93s - loss: 0.5690 - acc: 0.7392 - val_loss: 1.5128 - val_acc: 0.4623\n",
      "Epoch 24/50\n",
      "7965/7965 [==============================] - 96s - loss: 0.5469 - acc: 0.7563 - val_loss: 1.0201 - val_acc: 0.7189\n",
      "Epoch 25/50\n",
      "7965/7965 [==============================] - 95s - loss: 0.5193 - acc: 0.7736 - val_loss: 1.0273 - val_acc: 0.6451\n",
      "Epoch 26/50\n",
      "7965/7965 [==============================] - 96s - loss: 0.5110 - acc: 0.7700 - val_loss: 0.8235 - val_acc: 0.7400\n",
      "Epoch 27/50\n",
      "7965/7965 [==============================] - 93s - loss: 0.5069 - acc: 0.7759 - val_loss: 0.9415 - val_acc: 0.7058\n",
      "Epoch 28/50\n",
      "7965/7965 [==============================] - 95s - loss: 0.4953 - acc: 0.7856 - val_loss: 0.7049 - val_acc: 0.7585\n",
      "Epoch 29/50\n",
      "7965/7965 [==============================] - 94s - loss: 0.4925 - acc: 0.7795 - val_loss: 0.9129 - val_acc: 0.7359\n",
      "Epoch 30/50\n",
      "7965/7965 [==============================] - 95s - loss: 0.4707 - acc: 0.7945 - val_loss: 0.7438 - val_acc: 0.7425\n",
      "Epoch 31/50\n",
      "7965/7965 [==============================] - 93s - loss: 0.4726 - acc: 0.7938 - val_loss: 0.9591 - val_acc: 0.6928\n",
      "Epoch 32/50\n",
      "7965/7965 [==============================] - 94s - loss: 0.4643 - acc: 0.7954 - val_loss: 0.8675 - val_acc: 0.7179\n",
      "Epoch 33/50\n",
      "7965/7965 [==============================] - 95s - loss: 0.4562 - acc: 0.7999 - val_loss: 1.5161 - val_acc: 0.5045\n",
      "Epoch 34/50\n",
      "7965/7965 [==============================] - 96s - loss: 0.4591 - acc: 0.8004 - val_loss: 1.1245 - val_acc: 0.5728\n",
      "Epoch 35/50\n",
      "7965/7965 [==============================] - 99s - loss: 0.4394 - acc: 0.8089 - val_loss: 0.9081 - val_acc: 0.7098\n",
      "Epoch 36/50\n",
      "7965/7965 [==============================] - 99s - loss: 0.4556 - acc: 0.8015 - val_loss: 0.7426 - val_acc: 0.7605\n",
      "Epoch 37/50\n",
      "7965/7965 [==============================] - 113s - loss: 0.4361 - acc: 0.8087 - val_loss: 0.8578 - val_acc: 0.7400\n",
      "Epoch 38/50\n",
      "7965/7965 [==============================] - 106s - loss: 0.4337 - acc: 0.8139 - val_loss: 0.8947 - val_acc: 0.7309\n",
      "Epoch 39/50\n",
      "7965/7965 [==============================] - 94s - loss: 0.4450 - acc: 0.8060 - val_loss: 0.7434 - val_acc: 0.7364\n",
      "Epoch 40/50\n",
      "7965/7965 [==============================] - 95s - loss: 0.4266 - acc: 0.8090 - val_loss: 0.6468 - val_acc: 0.7982\n",
      "Epoch 41/50\n",
      "7965/7965 [==============================] - 96s - loss: 0.4283 - acc: 0.8159 - val_loss: 1.1309 - val_acc: 0.6496\n",
      "Epoch 42/50\n",
      "7965/7965 [==============================] - 96s - loss: 0.4222 - acc: 0.8210 - val_loss: 0.9361 - val_acc: 0.7364\n",
      "Epoch 43/50\n",
      "7965/7965 [==============================] - 99s - loss: 0.4302 - acc: 0.8180 - val_loss: 1.6990 - val_acc: 0.4639\n",
      "Epoch 44/50\n",
      "7965/7965 [==============================] - 95s - loss: 0.4231 - acc: 0.8195 - val_loss: 0.9140 - val_acc: 0.7445\n",
      "Epoch 45/50\n",
      "7965/7965 [==============================] - 96s - loss: 0.4251 - acc: 0.8240 - val_loss: 0.8124 - val_acc: 0.7279\n",
      "Epoch 46/50\n",
      "7965/7965 [==============================] - 98s - loss: 0.4187 - acc: 0.8227 - val_loss: 0.8624 - val_acc: 0.7234\n",
      "Epoch 47/50\n",
      "7965/7965 [==============================] - 100s - loss: 0.4210 - acc: 0.8175 - val_loss: 1.1489 - val_acc: 0.6426\n",
      "Epoch 48/50\n",
      "7965/7965 [==============================] - 94s - loss: 0.4285 - acc: 0.8186 - val_loss: 0.8047 - val_acc: 0.7992\n",
      "Epoch 49/50\n",
      "7965/7965 [==============================] - 94s - loss: 0.4109 - acc: 0.8246 - val_loss: 1.0850 - val_acc: 0.6230\n",
      "Epoch 50/50\n",
      "7965/7965 [==============================] - 94s - loss: 0.4150 - acc: 0.8205 - val_loss: 0.8317 - val_acc: 0.7500\n"
     ]
    }
   ],
   "source": [
    "model = get_model()\n",
    "\n",
    "# fits the model on batches\n",
    "history = model.fit(\n",
    "    X_train,\n",
    "    y_train,\n",
    "    validation_split=0.2,\n",
    "    epochs=epochs,\n",
    "    shuffle=True,\n",
    "    batch_size=batch_size)\n",
    "\n",
    "model.save_weights('multiclass_3_layer_epochs'+str(epochs)+'_lr'+str(learning_rate)+'_dropout'+str(dropout)+'.h5')"
   ]
  },
  {
   "cell_type": "code",
   "execution_count": 7,
   "metadata": {},
   "outputs": [
    {
     "name": "stdout",
     "output_type": "stream",
     "text": [
      "_________________________________________________________________\n",
      "Layer (type)                 Output Shape              Param #   \n",
      "=================================================================\n",
      "lambda_1 (Lambda)            (None, 240, 320, 3)       0         \n",
      "_________________________________________________________________\n",
      "conv2d_1 (Conv2D)            (None, 238, 318, 32)      896       \n",
      "_________________________________________________________________\n",
      "activation_1 (Activation)    (None, 238, 318, 32)      0         \n",
      "_________________________________________________________________\n",
      "max_pooling2d_1 (MaxPooling2 (None, 119, 159, 32)      0         \n",
      "_________________________________________________________________\n",
      "conv2d_2 (Conv2D)            (None, 117, 157, 32)      9248      \n",
      "_________________________________________________________________\n",
      "activation_2 (Activation)    (None, 117, 157, 32)      0         \n",
      "_________________________________________________________________\n",
      "max_pooling2d_2 (MaxPooling2 (None, 58, 78, 32)        0         \n",
      "_________________________________________________________________\n",
      "conv2d_3 (Conv2D)            (None, 56, 76, 64)        18496     \n",
      "_________________________________________________________________\n",
      "activation_3 (Activation)    (None, 56, 76, 64)        0         \n",
      "_________________________________________________________________\n",
      "max_pooling2d_3 (MaxPooling2 (None, 28, 38, 64)        0         \n",
      "_________________________________________________________________\n",
      "flatten_1 (Flatten)          (None, 68096)             0         \n",
      "_________________________________________________________________\n",
      "dense_1 (Dense)              (None, 64)                4358208   \n",
      "_________________________________________________________________\n",
      "activation_4 (Activation)    (None, 64)                0         \n",
      "_________________________________________________________________\n",
      "dropout_1 (Dropout)          (None, 64)                0         \n",
      "_________________________________________________________________\n",
      "dense_2 (Dense)              (None, 4)                 260       \n",
      "_________________________________________________________________\n",
      "activation_5 (Activation)    (None, 4)                 0         \n",
      "=================================================================\n",
      "Total params: 4,387,108\n",
      "Trainable params: 4,387,108\n",
      "Non-trainable params: 0\n",
      "_________________________________________________________________\n",
      "None\n"
     ]
    }
   ],
   "source": [
    "print(model.summary())"
   ]
  },
  {
   "cell_type": "code",
   "execution_count": 8,
   "metadata": {},
   "outputs": [
    {
     "name": "stdout",
     "output_type": "stream",
     "text": [
      "Predicting on test data\n",
      "0.6489746682750301\n"
     ]
    }
   ],
   "source": [
    "from sklearn.metrics import accuracy_score\n",
    "\n",
    "print('Predicting on test data')\n",
    "y_pred = np.rint(model.predict(X_test))\n",
    "\n",
    "print(accuracy_score(y_test, y_pred))"
   ]
  },
  {
   "cell_type": "code",
   "execution_count": 9,
   "metadata": {
    "scrolled": true
   },
   "outputs": [
    {
     "data": {
      "image/png": "[encoded data removed]",
      "text/plain": [
       "<matplotlib.figure.Figure at 0x7f8e2c445550>"
      ]
     },
     "metadata": {},
     "output_type": "display_data"
    }
   ],
   "source": [
    "def plot_learning_curve(history):\n",
    "    plt.plot(history.history['acc'])\n",
    "    plt.plot(history.history['val_acc'])\n",
    "    plt.title('model accuracy')\n",
    "    plt.ylabel('accuracy')\n",
    "    plt.xlabel('epoch')\n",
    "    plt.legend(['train', 'test'], loc='upper left')\n",
    "    plt.savefig('./accuracy_curve.png')\n",
    "    plt.clf()\n",
    "    # summarize history for loss\n",
    "    plt.plot(history.history['loss'])\n",
    "    plt.plot(history.history['val_loss'])\n",
    "    plt.title('model loss')\n",
    "    plt.ylabel('loss')\n",
    "    plt.xlabel('epoch')\n",
    "    plt.legend(['train', 'test'], loc='upper left')\n",
    "    plt.savefig('./loss_curve_multiclass.png')\n",
    "\n",
    "plot_learning_curve(history)"
   ]
  },
  {
   "cell_type": "code",
   "execution_count": 10,
   "metadata": {},
   "outputs": [
    {
     "name": "stdout",
     "output_type": "stream",
     "text": [
      "[[496   0   0 127]\n",
      " [222 398   0   0]\n",
      " [ 32   0 257 331]\n",
      " [104   0   0 520]]\n"
     ]
    }
   ],
   "source": [
    "from sklearn.metrics import confusion_matrix\n",
    "\n",
    "y_pred_unencoded = np.argmax(y_pred, axis=1)\n",
    "y_test_unencoded = np.argmax(y_test, axis=1)\n",
    "\n",
    "print(confusion_matrix(y_test_unencoded, y_pred_unencoded))"
   ]
  },
  {
   "cell_type": "code",
   "execution_count": 11,
   "metadata": {},
   "outputs": [
    {
     "name": "stdout",
     "output_type": "stream",
     "text": [
      "precision: 0.7781233986101732\n",
      "recall: 0.6714831546971816\n",
      "fbeta_score: 0.6722086208962121\n",
      "support: None\n"
     ]
    }
   ],
   "source": [
    "from sklearn.metrics import precision_recall_fscore_support\n",
    "\n",
    "\n",
    "precision,recall,fbeta_score,support = precision_recall_fscore_support(y_test_unencoded, y_pred_unencoded, average='macro')\n",
    "print 'precision: '+ str(precision)\n",
    "print 'recall: ' + str(recall)\n",
    "print 'fbeta_score: ' + str(fbeta_score)\n",
    "print 'support: '+ str(support)"
   ]
  }
 ],
 "metadata": {
  "kernelspec": {
   "display_name": "Python 2",
   "language": "python",
   "name": "python2"
  },
  "language_info": {
   "codemirror_mode": {
    "name": "ipython",
    "version": 2
   },
   "file_extension": ".py",
   "mimetype": "text/x-python",
   "name": "python",
   "nbconvert_exporter": "python",
   "pygments_lexer": "ipython2",
   "version": "2.7.12"
  }
 },
 "nbformat": 4,
 "nbformat_minor": 2
}
