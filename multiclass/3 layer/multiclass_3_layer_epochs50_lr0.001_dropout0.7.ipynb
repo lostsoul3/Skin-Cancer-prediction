{
 "cells": [
  {
   "cell_type": "code",
   "execution_count": 1,
   "metadata": {},
   "outputs": [
    {
     "name": "stderr",
     "output_type": "stream",
     "text": [
      "/usr/local/lib/python2.7/dist-packages/h5py/__init__.py:36: FutureWarning: Conversion of the second argument of issubdtype from `float` to `np.floating` is deprecated. In future, it will be treated as `np.float64 == np.dtype(float).type`.\n",
      "  from ._conv import register_converters as _register_converters\n",
      "Using TensorFlow backend.\n",
      "/usr/local/lib/python2.7/dist-packages/sklearn/cross_validation.py:44: DeprecationWarning: This module was deprecated in version 0.18 in favor of the model_selection module into which all the refactored classes and functions are moved. Also note that the interface of the new CV iterators are different from that of this module. This module will be removed in 0.20.\n",
      "  \"This module will be removed in 0.20.\", DeprecationWarning)\n"
     ]
    }
   ],
   "source": [
    "import numpy as np\n",
    "from keras.models import Sequential\n",
    "from keras.optimizers import RMSprop\n",
    "from keras.layers import Dense, Dropout, Activation, Flatten\n",
    "from keras.layers import Conv2D, MaxPooling2D, Lambda\n",
    "from keras.layers import Dense\n",
    "from keras.wrappers.scikit_learn import KerasClassifier\n",
    "from keras.utils import np_utils\n",
    "from keras.preprocessing.image import ImageDataGenerator\n",
    "from sklearn.model_selection import cross_val_score\n",
    "from sklearn.model_selection import KFold\n",
    "from sklearn.preprocessing import LabelEncoder\n",
    "from sklearn.pipeline import Pipeline\n",
    "from sklearn.cross_validation import train_test_split\n",
    "from sklearn.metrics import roc_curve, auc\n",
    "import csv\n",
    "import cv2\n",
    "import scipy\n",
    "import os\n",
    "\n",
    "%matplotlib inline\n",
    "import matplotlib.pyplot as plt"
   ]
  },
  {
   "cell_type": "code",
   "execution_count": 2,
   "metadata": {},
   "outputs": [],
   "source": [
    "num_classes = 4\n",
    "epochs = 50\n",
    "dropout =0.7\n",
    "learning_rate = 0.001\n",
    "# BASE_PATH = '/home/ec2-user/cell_classifier/'\n",
    "BASE_DIR = '../'\n",
    "batch_size = 32"
   ]
  },
  {
   "cell_type": "code",
   "execution_count": 3,
   "metadata": {},
   "outputs": [],
   "source": [
    "def get_model():\n",
    "    model = Sequential()\n",
    "    model.add(Lambda(lambda x: x/127.5 - 1., input_shape=(240, 320, 3), output_shape=(240, 320, 3)))\n",
    "    model.add(Conv2D(32, (3, 3), input_shape=(240, 320, 3)))\n",
    "    model.add(Activation('relu'))\n",
    "    model.add(MaxPooling2D(pool_size=(2, 2)))\n",
    "\n",
    "    model.add(Conv2D(32, (3, 3)))\n",
    "    model.add(Activation('relu'))\n",
    "    model.add(MaxPooling2D(pool_size=(2, 2)))\n",
    "    \n",
    "    model.add(Conv2D(64, (3, 3)))\n",
    "    model.add(Activation('relu'))\n",
    "    model.add(MaxPooling2D(pool_size=(2, 2)))\n",
    "\n",
    "    model.add(Flatten())  # this converts our 3D feature maps to 1D feature vectors\n",
    "    model.add(Dense(64))\n",
    "    model.add(Activation('relu'))\n",
    "    model.add(Dropout(dropout))\n",
    "    model.add(Dense(num_classes))\n",
    "    model.add(Activation('softmax'))\n",
    "    rms = RMSprop(lr = learning_rate,)\n",
    "    model.compile(loss='categorical_crossentropy',\n",
    "                optimizer= rms,\n",
    "                metrics=['accuracy'])\n",
    "\n",
    "    return model"
   ]
  },
  {
   "cell_type": "code",
   "execution_count": 4,
   "metadata": {},
   "outputs": [],
   "source": [
    "def get_data(folder):\n",
    "    X = []\n",
    "    y = []\n",
    "\n",
    "    for wbc_type in os.listdir(folder):\n",
    "        if not wbc_type.startswith('.'):\n",
    "            for image_filename in os.listdir(folder + wbc_type):\n",
    "                img_file = cv2.imread(folder + wbc_type + '/' + image_filename)\n",
    "                if img_file is not None:\n",
    "                    img_file = scipy.misc.imresize(arr=img_file, size=(240, 320, 3))\n",
    "                    img_arr = np.asarray(img_file)\n",
    "                    X.append(img_arr)\n",
    "                    y.append(wbc_type)\n",
    "    X = np.asarray(X)\n",
    "    y = np.asarray(y)\n",
    "    return X,y"
   ]
  },
  {
   "cell_type": "code",
   "execution_count": 5,
   "metadata": {
    "scrolled": true
   },
   "outputs": [
    {
     "name": "stderr",
     "output_type": "stream",
     "text": [
      "/usr/local/lib/python2.7/dist-packages/scipy/misc/pilutil.py:480: FutureWarning: Conversion of the second argument of issubdtype from `int` to `np.signedinteger` is deprecated. In future, it will be treated as `np.int64 == np.dtype(int).type`.\n",
      "  if issubdtype(ts, int):\n",
      "/usr/local/lib/python2.7/dist-packages/scipy/misc/pilutil.py:483: FutureWarning: Conversion of the second argument of issubdtype from `float` to `np.floating` is deprecated. In future, it will be treated as `np.float64 == np.dtype(float).type`.\n",
      "  elif issubdtype(type(size), float):\n"
     ]
    }
   ],
   "source": [
    "X_train, y_train = get_data(BASE_DIR + 'images/TRAIN/')\n",
    "X_test, y_test = get_data(BASE_DIR + 'images/TEST/')\n",
    "\n",
    "encoder = LabelEncoder()\n",
    "encoder.fit(y_train)\n",
    "encoded_y_train = encoder.transform(y_train)\n",
    "encoded_y_test = encoder.transform(y_test)\n",
    "\n",
    "y_train = np_utils.to_categorical(encoded_y_train)\n",
    "y_test = np_utils.to_categorical(encoded_y_test)"
   ]
  },
  {
   "cell_type": "code",
   "execution_count": 6,
   "metadata": {},
   "outputs": [
    {
     "name": "stdout",
     "output_type": "stream",
     "text": [
      "Train on 7965 samples, validate on 1992 samples\n",
      "Epoch 1/50\n",
      "7965/7965 [==============================] - 105s - loss: 1.3099 - acc: 0.3928 - val_loss: 2.1923 - val_acc: 0.0000e+00\n",
      "Epoch 2/50\n",
      "7965/7965 [==============================] - 89s - loss: 1.0878 - acc: 0.5175 - val_loss: 2.7869 - val_acc: 0.0000e+00\n",
      "Epoch 3/50\n",
      "7965/7965 [==============================] - 89s - loss: 0.9000 - acc: 0.6246 - val_loss: 1.9656 - val_acc: 0.0000e+00\n",
      "Epoch 4/50\n",
      "7965/7965 [==============================] - 89s - loss: 0.7301 - acc: 0.7140 - val_loss: 1.6339 - val_acc: 0.0000e+00\n",
      "Epoch 5/50\n",
      "7965/7965 [==============================] - 89s - loss: 0.5895 - acc: 0.7637 - val_loss: 1.9162 - val_acc: 0.0422\n",
      "Epoch 6/50\n",
      "7965/7965 [==============================] - 90s - loss: 0.5264 - acc: 0.7975 - val_loss: 1.3616 - val_acc: 0.4834\n",
      "Epoch 7/50\n",
      "7965/7965 [==============================] - 90s - loss: 0.4777 - acc: 0.8265 - val_loss: 1.9787 - val_acc: 0.2113\n",
      "Epoch 8/50\n",
      "7965/7965 [==============================] - 93s - loss: 0.4203 - acc: 0.8487 - val_loss: 1.4999 - val_acc: 0.3645\n",
      "Epoch 9/50\n",
      "7965/7965 [==============================] - 91s - loss: 0.3856 - acc: 0.8573 - val_loss: 1.7529 - val_acc: 0.3017\n",
      "Epoch 10/50\n",
      "7965/7965 [==============================] - 91s - loss: 0.3766 - acc: 0.8647 - val_loss: 1.4000 - val_acc: 0.6069\n",
      "Epoch 11/50\n",
      "7965/7965 [==============================] - 91s - loss: 0.3372 - acc: 0.8851 - val_loss: 0.8672 - val_acc: 0.7470\n",
      "Epoch 12/50\n",
      "7965/7965 [==============================] - 93s - loss: 0.3149 - acc: 0.8863 - val_loss: 0.8082 - val_acc: 0.8936\n",
      "Epoch 13/50\n",
      "7965/7965 [==============================] - 92s - loss: 0.3015 - acc: 0.8906 - val_loss: 0.9006 - val_acc: 0.7651\n",
      "Epoch 14/50\n",
      "7965/7965 [==============================] - 92s - loss: 0.2715 - acc: 0.9056 - val_loss: 0.6282 - val_acc: 0.8394\n",
      "Epoch 15/50\n",
      "7965/7965 [==============================] - 97s - loss: 0.2551 - acc: 0.9109 - val_loss: 1.0459 - val_acc: 0.6903\n",
      "Epoch 16/50\n",
      "7965/7965 [==============================] - 90s - loss: 0.2601 - acc: 0.9102 - val_loss: 1.2175 - val_acc: 0.5176\n",
      "Epoch 17/50\n",
      "7965/7965 [==============================] - 94s - loss: 0.2506 - acc: 0.9193 - val_loss: 1.0576 - val_acc: 0.6687\n",
      "Epoch 18/50\n",
      "7965/7965 [==============================] - 93s - loss: 0.2739 - acc: 0.9178 - val_loss: 0.7704 - val_acc: 0.7731\n",
      "Epoch 19/50\n",
      "7965/7965 [==============================] - 91s - loss: 0.2429 - acc: 0.9194 - val_loss: 0.8178 - val_acc: 0.7947\n",
      "Epoch 20/50\n",
      "7965/7965 [==============================] - 96s - loss: 0.2247 - acc: 0.9253 - val_loss: 0.4365 - val_acc: 0.9383\n",
      "Epoch 21/50\n",
      "7965/7965 [==============================] - 91s - loss: 0.2197 - acc: 0.9311 - val_loss: 1.4067 - val_acc: 0.5582\n",
      "Epoch 22/50\n",
      "7965/7965 [==============================] - 90s - loss: 0.2522 - acc: 0.9271 - val_loss: 2.0499 - val_acc: 0.4623\n",
      "Epoch 23/50\n",
      "7965/7965 [==============================] - 91s - loss: 0.2350 - acc: 0.9264 - val_loss: 0.7062 - val_acc: 0.7997\n",
      "Epoch 24/50\n",
      "7965/7965 [==============================] - 91s - loss: 0.2221 - acc: 0.9273 - val_loss: 0.5835 - val_acc: 0.8494\n",
      "Epoch 25/50\n",
      "7965/7965 [==============================] - 91s - loss: 0.2284 - acc: 0.9320 - val_loss: 1.1311 - val_acc: 0.8017\n",
      "Epoch 26/50\n",
      "7965/7965 [==============================] - 91s - loss: 0.2299 - acc: 0.9282 - val_loss: 0.4935 - val_acc: 0.8991\n",
      "Epoch 27/50\n",
      "7965/7965 [==============================] - 90s - loss: 0.2412 - acc: 0.9307 - val_loss: 1.2783 - val_acc: 0.5884\n",
      "Epoch 28/50\n",
      "7965/7965 [==============================] - 91s - loss: 0.2386 - acc: 0.9313 - val_loss: 2.2016 - val_acc: 0.3685\n",
      "Epoch 29/50\n",
      "7965/7965 [==============================] - 91s - loss: 0.2611 - acc: 0.9308 - val_loss: 0.5145 - val_acc: 0.9167\n",
      "Epoch 30/50\n",
      "7965/7965 [==============================] - 91s - loss: 0.2347 - acc: 0.9320 - val_loss: 0.9702 - val_acc: 0.7174\n",
      "Epoch 31/50\n",
      "7965/7965 [==============================] - 91s - loss: 0.2631 - acc: 0.9277 - val_loss: 0.5705 - val_acc: 0.8685\n",
      "Epoch 32/50\n",
      "7965/7965 [==============================] - 91s - loss: 0.2326 - acc: 0.9302 - val_loss: 1.2199 - val_acc: 0.7149\n",
      "Epoch 33/50\n",
      "7965/7965 [==============================] - 92s - loss: 0.2526 - acc: 0.9284 - val_loss: 0.7135 - val_acc: 0.8830\n",
      "Epoch 34/50\n",
      "7965/7965 [==============================] - 91s - loss: 0.2385 - acc: 0.9340 - val_loss: 1.1439 - val_acc: 0.8619\n",
      "Epoch 35/50\n",
      "7965/7965 [==============================] - 91s - loss: 0.2137 - acc: 0.9321 - val_loss: 0.4926 - val_acc: 0.9292\n",
      "Epoch 36/50\n",
      "7965/7965 [==============================] - 91s - loss: 0.3047 - acc: 0.9269 - val_loss: 1.0653 - val_acc: 0.6973\n",
      "Epoch 37/50\n",
      "7965/7965 [==============================] - 91s - loss: 0.2634 - acc: 0.9327 - val_loss: 0.4246 - val_acc: 0.9538\n",
      "Epoch 38/50\n",
      "7965/7965 [==============================] - 90s - loss: 0.2700 - acc: 0.9269 - val_loss: 1.9606 - val_acc: 0.5964\n",
      "Epoch 39/50\n",
      "7965/7965 [==============================] - 91s - loss: 0.2066 - acc: 0.9363 - val_loss: 0.6593 - val_acc: 0.8223\n",
      "Epoch 40/50\n",
      "7965/7965 [==============================] - 91s - loss: 0.2326 - acc: 0.9338 - val_loss: 0.4315 - val_acc: 0.8991\n",
      "Epoch 41/50\n",
      "7965/7965 [==============================] - 90s - loss: 0.2541 - acc: 0.9321 - val_loss: 0.9026 - val_acc: 0.7615\n",
      "Epoch 42/50\n",
      "7965/7965 [==============================] - 91s - loss: 0.2241 - acc: 0.9338 - val_loss: 1.4041 - val_acc: 0.6722\n",
      "Epoch 43/50\n",
      "7965/7965 [==============================] - 91s - loss: 0.2004 - acc: 0.9381 - val_loss: 0.8880 - val_acc: 0.8263\n",
      "Epoch 44/50\n",
      "7965/7965 [==============================] - 91s - loss: 0.2565 - acc: 0.9338 - val_loss: 0.5442 - val_acc: 0.8790\n",
      "Epoch 45/50\n",
      "7965/7965 [==============================] - 91s - loss: 0.2106 - acc: 0.9415 - val_loss: 2.2889 - val_acc: 0.6752\n",
      "Epoch 46/50\n",
      "7965/7965 [==============================] - 91s - loss: 0.2203 - acc: 0.9392 - val_loss: 7.8855 - val_acc: 0.2485\n",
      "Epoch 47/50\n",
      "7965/7965 [==============================] - 91s - loss: 0.2296 - acc: 0.9380 - val_loss: 1.6730 - val_acc: 0.6586\n",
      "Epoch 48/50\n",
      "7965/7965 [==============================] - 91s - loss: 0.1985 - acc: 0.9434 - val_loss: 0.5968 - val_acc: 0.8675\n",
      "Epoch 49/50\n",
      "7965/7965 [==============================] - 91s - loss: 0.2138 - acc: 0.9394 - val_loss: 0.6535 - val_acc: 0.8218\n",
      "Epoch 50/50\n",
      "7965/7965 [==============================] - 90s - loss: 0.2254 - acc: 0.9352 - val_loss: 0.6713 - val_acc: 0.8273\n"
     ]
    }
   ],
   "source": [
    "model = get_model()\n",
    "\n",
    "# fits the model on batches\n",
    "history = model.fit(\n",
    "    X_train,\n",
    "    y_train,\n",
    "    validation_split=0.2,\n",
    "    epochs=epochs,\n",
    "    shuffle=True,\n",
    "    batch_size=batch_size)\n",
    "\n",
    "model.save_weights('multiclass_3_layer_epochs'+str(epochs)+'_lr'+str(learning_rate)+'_dropout'+str(dropout)+'.h5')"
   ]
  },
  {
   "cell_type": "code",
   "execution_count": 7,
   "metadata": {},
   "outputs": [
    {
     "name": "stdout",
     "output_type": "stream",
     "text": [
      "_________________________________________________________________\n",
      "Layer (type)                 Output Shape              Param #   \n",
      "=================================================================\n",
      "lambda_1 (Lambda)            (None, 240, 320, 3)       0         \n",
      "_________________________________________________________________\n",
      "conv2d_1 (Conv2D)            (None, 238, 318, 32)      896       \n",
      "_________________________________________________________________\n",
      "activation_1 (Activation)    (None, 238, 318, 32)      0         \n",
      "_________________________________________________________________\n",
      "max_pooling2d_1 (MaxPooling2 (None, 119, 159, 32)      0         \n",
      "_________________________________________________________________\n",
      "conv2d_2 (Conv2D)            (None, 117, 157, 32)      9248      \n",
      "_________________________________________________________________\n",
      "activation_2 (Activation)    (None, 117, 157, 32)      0         \n",
      "_________________________________________________________________\n",
      "max_pooling2d_2 (MaxPooling2 (None, 58, 78, 32)        0         \n",
      "_________________________________________________________________\n",
      "conv2d_3 (Conv2D)            (None, 56, 76, 64)        18496     \n",
      "_________________________________________________________________\n",
      "activation_3 (Activation)    (None, 56, 76, 64)        0         \n",
      "_________________________________________________________________\n",
      "max_pooling2d_3 (MaxPooling2 (None, 28, 38, 64)        0         \n",
      "_________________________________________________________________\n",
      "flatten_1 (Flatten)          (None, 68096)             0         \n",
      "_________________________________________________________________\n",
      "dense_1 (Dense)              (None, 64)                4358208   \n",
      "_________________________________________________________________\n",
      "activation_4 (Activation)    (None, 64)                0         \n",
      "_________________________________________________________________\n",
      "dropout_1 (Dropout)          (None, 64)                0         \n",
      "_________________________________________________________________\n",
      "dense_2 (Dense)              (None, 4)                 260       \n",
      "_________________________________________________________________\n",
      "activation_5 (Activation)    (None, 4)                 0         \n",
      "=================================================================\n",
      "Total params: 4,387,108\n",
      "Trainable params: 4,387,108\n",
      "Non-trainable params: 0\n",
      "_________________________________________________________________\n",
      "None\n"
     ]
    }
   ],
   "source": [
    "print(model.summary())"
   ]
  },
  {
   "cell_type": "code",
   "execution_count": 8,
   "metadata": {},
   "outputs": [
    {
     "name": "stdout",
     "output_type": "stream",
     "text": [
      "Predicting on test data\n",
      "0.7925211097708083\n"
     ]
    }
   ],
   "source": [
    "from sklearn.metrics import accuracy_score\n",
    "\n",
    "print('Predicting on test data')\n",
    "y_pred = np.rint(model.predict(X_test))\n",
    "\n",
    "print(accuracy_score(y_test, y_pred))"
   ]
  },
  {
   "cell_type": "code",
   "execution_count": 9,
   "metadata": {
    "scrolled": true
   },
   "outputs": [
    {
     "data": {
      "image/png": "[encoded data removed]",
      "text/plain": [
       "<matplotlib.figure.Figure at 0x7fa190548650>"
      ]
     },
     "metadata": {},
     "output_type": "display_data"
    }
   ],
   "source": [
    "def plot_learning_curve(history):\n",
    "    plt.plot(history.history['acc'])\n",
    "    plt.plot(history.history['val_acc'])\n",
    "    plt.title('model accuracy')\n",
    "    plt.ylabel('accuracy')\n",
    "    plt.xlabel('epoch')\n",
    "    plt.legend(['train', 'test'], loc='upper left')\n",
    "    plt.savefig('./accuracy_curve.png')\n",
    "    plt.clf()\n",
    "    # summarize history for loss\n",
    "    plt.plot(history.history['loss'])\n",
    "    plt.plot(history.history['val_loss'])\n",
    "    plt.title('model loss')\n",
    "    plt.ylabel('loss')\n",
    "    plt.xlabel('epoch')\n",
    "    plt.legend(['train', 'test'], loc='upper left')\n",
    "    plt.savefig('./loss_curve_multiclass.png')\n",
    "\n",
    "plot_learning_curve(history)"
   ]
  },
  {
   "cell_type": "code",
   "execution_count": 10,
   "metadata": {},
   "outputs": [
    {
     "name": "stdout",
     "output_type": "stream",
     "text": [
      "[[533   0  21  69]\n",
      " [ 16 588  14   2]\n",
      " [  8   0 308 304]\n",
      " [ 73   0   3 548]]\n"
     ]
    }
   ],
   "source": [
    "from sklearn.metrics import confusion_matrix\n",
    "\n",
    "y_pred_unencoded = np.argmax(y_pred, axis=1)\n",
    "y_test_unencoded = np.argmax(y_test, axis=1)\n",
    "\n",
    "print(confusion_matrix(y_test_unencoded, y_pred_unencoded))"
   ]
  },
  {
   "cell_type": "code",
   "execution_count": 11,
   "metadata": {},
   "outputs": [
    {
     "name": "stdout",
     "output_type": "stream",
     "text": [
      "precision: 0.832480324862072\n",
      "recall: 0.7947260348084921\n",
      "fbeta_score: 0.7926043190369733\n",
      "support: None\n"
     ]
    }
   ],
   "source": [
    "from sklearn.metrics import precision_recall_fscore_support\n",
    "\n",
    "\n",
    "precision,recall,fbeta_score,support = precision_recall_fscore_support(y_test_unencoded, y_pred_unencoded, average='macro')\n",
    "print 'precision: '+ str(precision)\n",
    "print 'recall: ' + str(recall)\n",
    "print 'fbeta_score: ' + str(fbeta_score)\n",
    "print 'support: '+ str(support)"
   ]
  }
 ],
 "metadata": {
  "kernelspec": {
   "display_name": "Python 2",
   "language": "python",
   "name": "python2"
  },
  "language_info": {
   "codemirror_mode": {
    "name": "ipython",
    "version": 2
   },
   "file_extension": ".py",
   "mimetype": "text/x-python",
   "name": "python",
   "nbconvert_exporter": "python",
   "pygments_lexer": "ipython2",
   "version": "2.7.12"
  }
 },
 "nbformat": 4,
 "nbformat_minor": 2
}
