{
 "cells": [
  {
   "cell_type": "code",
   "execution_count": 1,
   "metadata": {},
   "outputs": [
    {
     "name": "stderr",
     "output_type": "stream",
     "text": [
      "/usr/local/lib/python2.7/dist-packages/h5py/__init__.py:36: FutureWarning: Conversion of the second argument of issubdtype from `float` to `np.floating` is deprecated. In future, it will be treated as `np.float64 == np.dtype(float).type`.\n",
      "  from ._conv import register_converters as _register_converters\n",
      "Using TensorFlow backend.\n",
      "/usr/local/lib/python2.7/dist-packages/sklearn/cross_validation.py:44: DeprecationWarning: This module was deprecated in version 0.18 in favor of the model_selection module into which all the refactored classes and functions are moved. Also note that the interface of the new CV iterators are different from that of this module. This module will be removed in 0.20.\n",
      "  \"This module will be removed in 0.20.\", DeprecationWarning)\n"
     ]
    }
   ],
   "source": [
    "import numpy as np\n",
    "from keras.models import Sequential\n",
    "from keras.optimizers import RMSprop\n",
    "from keras.layers import Dense, Dropout, Activation, Flatten\n",
    "from keras.layers import Conv2D, MaxPooling2D, Lambda\n",
    "from keras.layers import Dense\n",
    "from keras.wrappers.scikit_learn import KerasClassifier\n",
    "from keras.utils import np_utils\n",
    "from keras.preprocessing.image import ImageDataGenerator\n",
    "from sklearn.model_selection import cross_val_score\n",
    "from sklearn.model_selection import KFold\n",
    "from sklearn.preprocessing import LabelEncoder\n",
    "from sklearn.pipeline import Pipeline\n",
    "from sklearn.cross_validation import train_test_split\n",
    "from sklearn.metrics import roc_curve, auc\n",
    "import csv\n",
    "import cv2\n",
    "import scipy\n",
    "import os\n",
    "\n",
    "%matplotlib inline\n",
    "import matplotlib.pyplot as plt"
   ]
  },
  {
   "cell_type": "code",
   "execution_count": 2,
   "metadata": {},
   "outputs": [],
   "source": [
    "num_classes = 4\n",
    "epochs = 20\n",
    "dropout =0.5\n",
    "learning_rate = 0.001\n",
    "# BASE_PATH = '/home/ec2-user/cell_classifier/'\n",
    "BASE_DIR = '../'\n",
    "batch_size = 32"
   ]
  },
  {
   "cell_type": "code",
   "execution_count": 3,
   "metadata": {},
   "outputs": [],
   "source": [
    "def get_model():\n",
    "    model = Sequential()\n",
    "    model.add(Lambda(lambda x: x/127.5 - 1., input_shape=(240, 320, 3), output_shape=(240, 320, 3)))\n",
    "    model.add(Conv2D(32, (3, 3), input_shape=(240, 320, 3)))\n",
    "    model.add(Activation('relu'))\n",
    "    model.add(MaxPooling2D(pool_size=(2, 2)))\n",
    "\n",
    "    model.add(Conv2D(32, (3, 3)))\n",
    "    model.add(Activation('relu'))\n",
    "    model.add(MaxPooling2D(pool_size=(2, 2)))\n",
    "\n",
    "    model.add(Conv2D(64, (3, 3)))\n",
    "    model.add(Activation('relu'))\n",
    "    model.add(MaxPooling2D(pool_size=(2, 2)))\n",
    "    \n",
    "    model.add(Conv2D(64, (3, 3)))\n",
    "    model.add(Activation('relu'))\n",
    "    model.add(MaxPooling2D(pool_size=(2, 2)))\n",
    "    \n",
    "    model.add(Conv2D(64, (3, 3)))\n",
    "    model.add(Activation('relu'))\n",
    "    model.add(MaxPooling2D(pool_size=(2, 2)))\n",
    "\n",
    "    model.add(Flatten())  # this converts our 3D feature maps to 1D feature vectors\n",
    "    model.add(Dense(64))\n",
    "    model.add(Activation('relu'))\n",
    "    model.add(Dropout(dropout))\n",
    "    model.add(Dense(num_classes))\n",
    "    model.add(Activation('softmax'))\n",
    "    rms = RMSprop(lr = learning_rate,)\n",
    "    model.compile(loss='categorical_crossentropy',\n",
    "                optimizer= rms,\n",
    "                metrics=['accuracy'])\n",
    "\n",
    "    return model"
   ]
  },
  {
   "cell_type": "code",
   "execution_count": 4,
   "metadata": {},
   "outputs": [],
   "source": [
    "def get_data(folder):\n",
    "    X = []\n",
    "    y = []\n",
    "\n",
    "    for wbc_type in os.listdir(folder):\n",
    "        if not wbc_type.startswith('.'):\n",
    "            for image_filename in os.listdir(folder + wbc_type):\n",
    "                img_file = cv2.imread(folder + wbc_type + '/' + image_filename)\n",
    "                if img_file is not None:\n",
    "                    img_file = scipy.misc.imresize(arr=img_file, size=(240, 320, 3))\n",
    "                    img_arr = np.asarray(img_file)\n",
    "                    X.append(img_arr)\n",
    "                    y.append(wbc_type)\n",
    "    X = np.asarray(X)\n",
    "    y = np.asarray(y)\n",
    "    return X,y"
   ]
  },
  {
   "cell_type": "code",
   "execution_count": 5,
   "metadata": {
    "scrolled": true
   },
   "outputs": [
    {
     "name": "stderr",
     "output_type": "stream",
     "text": [
      "/usr/local/lib/python2.7/dist-packages/scipy/misc/pilutil.py:480: FutureWarning: Conversion of the second argument of issubdtype from `int` to `np.signedinteger` is deprecated. In future, it will be treated as `np.int64 == np.dtype(int).type`.\n",
      "  if issubdtype(ts, int):\n",
      "/usr/local/lib/python2.7/dist-packages/scipy/misc/pilutil.py:483: FutureWarning: Conversion of the second argument of issubdtype from `float` to `np.floating` is deprecated. In future, it will be treated as `np.float64 == np.dtype(float).type`.\n",
      "  elif issubdtype(type(size), float):\n"
     ]
    }
   ],
   "source": [
    "X_train, y_train = get_data(BASE_DIR + 'images/TRAIN/')\n",
    "X_test, y_test = get_data(BASE_DIR + 'images/TEST/')\n",
    "\n",
    "encoder = LabelEncoder()\n",
    "encoder.fit(y_train)\n",
    "encoded_y_train = encoder.transform(y_train)\n",
    "encoded_y_test = encoder.transform(y_test)\n",
    "\n",
    "y_train = np_utils.to_categorical(encoded_y_train)\n",
    "y_test = np_utils.to_categorical(encoded_y_test)"
   ]
  },
  {
   "cell_type": "code",
   "execution_count": 6,
   "metadata": {},
   "outputs": [
    {
     "name": "stdout",
     "output_type": "stream",
     "text": [
      "Train on 7965 samples, validate on 1992 samples\n",
      "Epoch 1/20\n",
      "7965/7965 [==============================] - 100s - loss: 1.1850 - acc: 0.4166 - val_loss: 2.5150 - val_acc: 0.0000e+00\n",
      "Epoch 2/20\n",
      "7965/7965 [==============================] - 88s - loss: 0.8547 - acc: 0.6595 - val_loss: 2.2084 - val_acc: 0.0000e+00\n",
      "Epoch 3/20\n",
      "7965/7965 [==============================] - 89s - loss: 0.6096 - acc: 0.7743 - val_loss: 1.8761 - val_acc: 0.0055\n",
      "Epoch 4/20\n",
      "7965/7965 [==============================] - 91s - loss: 0.5145 - acc: 0.8211 - val_loss: 1.0084 - val_acc: 0.5778\n",
      "Epoch 5/20\n",
      "7965/7965 [==============================] - 91s - loss: 0.4467 - acc: 0.8565 - val_loss: 0.6205 - val_acc: 0.7455\n",
      "Epoch 6/20\n",
      "7965/7965 [==============================] - 90s - loss: 0.3226 - acc: 0.8844 - val_loss: 1.3092 - val_acc: 0.5251\n",
      "Epoch 7/20\n",
      "7965/7965 [==============================] - 91s - loss: 0.3004 - acc: 0.8958 - val_loss: 0.7131 - val_acc: 0.7224\n",
      "Epoch 8/20\n",
      "7965/7965 [==============================] - 91s - loss: 0.2570 - acc: 0.9161 - val_loss: 1.2951 - val_acc: 0.5813\n",
      "Epoch 9/20\n",
      "7965/7965 [==============================] - 92s - loss: 0.2654 - acc: 0.9209 - val_loss: 0.4243 - val_acc: 0.8469\n",
      "Epoch 10/20\n",
      "7965/7965 [==============================] - 91s - loss: 0.2358 - acc: 0.9296 - val_loss: 0.2829 - val_acc: 0.8941\n",
      "Epoch 11/20\n",
      "7965/7965 [==============================] - 92s - loss: 0.1996 - acc: 0.9386 - val_loss: 0.1584 - val_acc: 0.9438\n",
      "Epoch 12/20\n",
      "7965/7965 [==============================] - 93s - loss: 0.2183 - acc: 0.9417 - val_loss: 1.5867 - val_acc: 0.6606\n",
      "Epoch 13/20\n",
      "7965/7965 [==============================] - 91s - loss: 0.2022 - acc: 0.9396 - val_loss: 0.5729 - val_acc: 0.8911\n",
      "Epoch 14/20\n",
      "7965/7965 [==============================] - 93s - loss: 0.4581 - acc: 0.9307 - val_loss: 0.3206 - val_acc: 0.8780\n",
      "Epoch 15/20\n",
      "7965/7965 [==============================] - 92s - loss: 0.1838 - acc: 0.9487 - val_loss: 0.3200 - val_acc: 0.9101\n",
      "Epoch 16/20\n",
      "7965/7965 [==============================] - 91s - loss: 0.1885 - acc: 0.9567 - val_loss: 1.7744 - val_acc: 0.7013\n",
      "Epoch 17/20\n",
      "7965/7965 [==============================] - 92s - loss: 0.1894 - acc: 0.9540 - val_loss: 0.6428 - val_acc: 0.8660\n",
      "Epoch 18/20\n",
      "7965/7965 [==============================] - 91s - loss: 0.1790 - acc: 0.9530 - val_loss: 0.2832 - val_acc: 0.8951\n",
      "Epoch 19/20\n",
      "7965/7965 [==============================] - 93s - loss: 0.1821 - acc: 0.9534 - val_loss: 0.6427 - val_acc: 0.8062\n",
      "Epoch 20/20\n",
      "7965/7965 [==============================] - 92s - loss: 0.2526 - acc: 0.9537 - val_loss: 0.1711 - val_acc: 0.9403\n"
     ]
    }
   ],
   "source": [
    "model = get_model()\n",
    "\n",
    "# fits the model on batches\n",
    "history = model.fit(\n",
    "    X_train,\n",
    "    y_train,\n",
    "    validation_split=0.2,\n",
    "    epochs=epochs,\n",
    "    shuffle=True,\n",
    "    batch_size=batch_size)\n",
    "\n",
    "model.save_weights('multiclass_epochs'+str(epochs)+'_lr'+str(learning_rate)+'_dropout'+str(dropout)+'.h5')"
   ]
  },
  {
   "cell_type": "code",
   "execution_count": 7,
   "metadata": {},
   "outputs": [
    {
     "name": "stdout",
     "output_type": "stream",
     "text": [
      "_________________________________________________________________\n",
      "Layer (type)                 Output Shape              Param #   \n",
      "=================================================================\n",
      "lambda_1 (Lambda)            (None, 240, 320, 3)       0         \n",
      "_________________________________________________________________\n",
      "conv2d_1 (Conv2D)            (None, 238, 318, 32)      896       \n",
      "_________________________________________________________________\n",
      "activation_1 (Activation)    (None, 238, 318, 32)      0         \n",
      "_________________________________________________________________\n",
      "max_pooling2d_1 (MaxPooling2 (None, 119, 159, 32)      0         \n",
      "_________________________________________________________________\n",
      "conv2d_2 (Conv2D)            (None, 117, 157, 32)      9248      \n",
      "_________________________________________________________________\n",
      "activation_2 (Activation)    (None, 117, 157, 32)      0         \n",
      "_________________________________________________________________\n",
      "max_pooling2d_2 (MaxPooling2 (None, 58, 78, 32)        0         \n",
      "_________________________________________________________________\n",
      "conv2d_3 (Conv2D)            (None, 56, 76, 64)        18496     \n",
      "_________________________________________________________________\n",
      "activation_3 (Activation)    (None, 56, 76, 64)        0         \n",
      "_________________________________________________________________\n",
      "max_pooling2d_3 (MaxPooling2 (None, 28, 38, 64)        0         \n",
      "_________________________________________________________________\n",
      "conv2d_4 (Conv2D)            (None, 26, 36, 64)        36928     \n",
      "_________________________________________________________________\n",
      "activation_4 (Activation)    (None, 26, 36, 64)        0         \n",
      "_________________________________________________________________\n",
      "max_pooling2d_4 (MaxPooling2 (None, 13, 18, 64)        0         \n",
      "_________________________________________________________________\n",
      "conv2d_5 (Conv2D)            (None, 11, 16, 64)        36928     \n",
      "_________________________________________________________________\n",
      "activation_5 (Activation)    (None, 11, 16, 64)        0         \n",
      "_________________________________________________________________\n",
      "max_pooling2d_5 (MaxPooling2 (None, 5, 8, 64)          0         \n",
      "_________________________________________________________________\n",
      "flatten_1 (Flatten)          (None, 2560)              0         \n",
      "_________________________________________________________________\n",
      "dense_1 (Dense)              (None, 64)                163904    \n",
      "_________________________________________________________________\n",
      "activation_6 (Activation)    (None, 64)                0         \n",
      "_________________________________________________________________\n",
      "dropout_1 (Dropout)          (None, 64)                0         \n",
      "_________________________________________________________________\n",
      "dense_2 (Dense)              (None, 4)                 260       \n",
      "_________________________________________________________________\n",
      "activation_7 (Activation)    (None, 4)                 0         \n",
      "=================================================================\n",
      "Total params: 266,660\n",
      "Trainable params: 266,660\n",
      "Non-trainable params: 0\n",
      "_________________________________________________________________\n",
      "None\n"
     ]
    }
   ],
   "source": [
    "print(model.summary())"
   ]
  },
  {
   "cell_type": "code",
   "execution_count": 8,
   "metadata": {},
   "outputs": [
    {
     "name": "stdout",
     "output_type": "stream",
     "text": [
      "Predicting on test data\n",
      "0.8624849215922799\n"
     ]
    }
   ],
   "source": [
    "from sklearn.metrics import accuracy_score\n",
    "\n",
    "print('Predicting on test data')\n",
    "y_pred = np.rint(model.predict(X_test))\n",
    "\n",
    "print(accuracy_score(y_test, y_pred))"
   ]
  },
  {
   "cell_type": "code",
   "execution_count": 9,
   "metadata": {},
   "outputs": [
    {
     "data": {
      "image/png": "[encoded data removed]",
      "text/plain": [
       "<matplotlib.figure.Figure at 0x7fbc952eff50>"
      ]
     },
     "metadata": {},
     "output_type": "display_data"
    }
   ],
   "source": [
    "def plot_learning_curve(history):\n",
    "    plt.plot(history.history['acc'])\n",
    "    plt.plot(history.history['val_acc'])\n",
    "    plt.title('model accuracy')\n",
    "    plt.ylabel('accuracy')\n",
    "    plt.xlabel('epoch')\n",
    "    plt.legend(['train', 'test'], loc='upper left')\n",
    "    plt.savefig('./accuracy_curve.png')\n",
    "    plt.clf()\n",
    "    # summarize history for loss\n",
    "    plt.plot(history.history['loss'])\n",
    "    plt.plot(history.history['val_loss'])\n",
    "    plt.title('model loss')\n",
    "    plt.ylabel('loss')\n",
    "    plt.xlabel('epoch')\n",
    "    plt.legend(['train', 'test'], loc='upper left')\n",
    "    plt.savefig('./loss_curve_multiclass.png')\n",
    "\n",
    "plot_learning_curve(history)"
   ]
  },
  {
   "cell_type": "code",
   "execution_count": 10,
   "metadata": {},
   "outputs": [
    {
     "name": "stdout",
     "output_type": "stream",
     "text": [
      "[[504   0   0 119]\n",
      " [  2 618   0   0]\n",
      " [  6   0 461 153]\n",
      " [ 39   5   5 575]]\n"
     ]
    }
   ],
   "source": [
    "from sklearn.metrics import confusion_matrix\n",
    "\n",
    "y_pred_unencoded = np.argmax(y_pred, axis=1)\n",
    "y_test_unencoded = np.argmax(y_test, axis=1)\n",
    "\n",
    "print(confusion_matrix(y_test_unencoded, y_pred_unencoded))"
   ]
  },
  {
   "cell_type": "code",
   "execution_count": 11,
   "metadata": {},
   "outputs": [
    {
     "name": "stdout",
     "output_type": "stream",
     "text": [
      "precision: 0.8937029591263039\n",
      "recall: 0.8676964259161161\n",
      "fbeta_score: 0.8709349349454475\n",
      "support: None\n"
     ]
    }
   ],
   "source": [
    "from sklearn.metrics import precision_recall_fscore_support\n",
    "\n",
    "\n",
    "precision,recall,fbeta_score,support = precision_recall_fscore_support(y_test_unencoded, y_pred_unencoded, average='macro')\n",
    "print 'precision: '+ str(precision)\n",
    "print 'recall: ' + str(recall)\n",
    "print 'fbeta_score: ' + str(fbeta_score)\n",
    "print 'support: '+ str(support)"
   ]
  }
 ],
 "metadata": {
  "kernelspec": {
   "display_name": "Python 2",
   "language": "python",
   "name": "python2"
  },
  "language_info": {
   "codemirror_mode": {
    "name": "ipython",
    "version": 2
   },
   "file_extension": ".py",
   "mimetype": "text/x-python",
   "name": "python",
   "nbconvert_exporter": "python",
   "pygments_lexer": "ipython2",
   "version": "2.7.12"
  }
 },
 "nbformat": 4,
 "nbformat_minor": 2
}
