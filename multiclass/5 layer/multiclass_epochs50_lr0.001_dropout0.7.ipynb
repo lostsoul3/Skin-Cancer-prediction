{
 "cells": [
  {
   "cell_type": "code",
   "execution_count": 1,
   "metadata": {},
   "outputs": [
    {
     "name": "stderr",
     "output_type": "stream",
     "text": [
      "/usr/local/lib/python2.7/dist-packages/h5py/__init__.py:36: FutureWarning: Conversion of the second argument of issubdtype from `float` to `np.floating` is deprecated. In future, it will be treated as `np.float64 == np.dtype(float).type`.\n",
      "  from ._conv import register_converters as _register_converters\n",
      "Using TensorFlow backend.\n",
      "/usr/local/lib/python2.7/dist-packages/sklearn/cross_validation.py:44: DeprecationWarning: This module was deprecated in version 0.18 in favor of the model_selection module into which all the refactored classes and functions are moved. Also note that the interface of the new CV iterators are different from that of this module. This module will be removed in 0.20.\n",
      "  \"This module will be removed in 0.20.\", DeprecationWarning)\n"
     ]
    }
   ],
   "source": [
    "import numpy as np\n",
    "from keras.models import Sequential\n",
    "from keras.optimizers import RMSprop\n",
    "from keras.layers import Dense, Dropout, Activation, Flatten\n",
    "from keras.layers import Conv2D, MaxPooling2D, Lambda\n",
    "from keras.layers import Dense\n",
    "from keras.wrappers.scikit_learn import KerasClassifier\n",
    "from keras.utils import np_utils\n",
    "from keras.preprocessing.image import ImageDataGenerator\n",
    "from sklearn.model_selection import cross_val_score\n",
    "from sklearn.model_selection import KFold\n",
    "from sklearn.preprocessing import LabelEncoder\n",
    "from sklearn.pipeline import Pipeline\n",
    "from sklearn.cross_validation import train_test_split\n",
    "from sklearn.metrics import roc_curve, auc\n",
    "import csv\n",
    "import cv2\n",
    "import scipy\n",
    "import os\n",
    "\n",
    "%matplotlib inline\n",
    "import matplotlib.pyplot as plt"
   ]
  },
  {
   "cell_type": "code",
   "execution_count": 2,
   "metadata": {},
   "outputs": [],
   "source": [
    "num_classes = 4\n",
    "epochs = 50\n",
    "dropout =0.7\n",
    "learning_rate = 0.001\n",
    "# BASE_PATH = '/home/ec2-user/cell_classifier/'\n",
    "BASE_DIR = '../'\n",
    "batch_size = 32"
   ]
  },
  {
   "cell_type": "code",
   "execution_count": 3,
   "metadata": {},
   "outputs": [],
   "source": [
    "def get_model():\n",
    "    model = Sequential()\n",
    "    model.add(Lambda(lambda x: x/127.5 - 1., input_shape=(240, 320, 3), output_shape=(240, 320, 3)))\n",
    "    model.add(Conv2D(32, (3, 3), input_shape=(240, 320, 3)))\n",
    "    model.add(Activation('relu'))\n",
    "    model.add(MaxPooling2D(pool_size=(2, 2)))\n",
    "\n",
    "    model.add(Conv2D(32, (3, 3)))\n",
    "    model.add(Activation('relu'))\n",
    "    model.add(MaxPooling2D(pool_size=(2, 2)))\n",
    "\n",
    "    model.add(Conv2D(64, (3, 3)))\n",
    "    model.add(Activation('relu'))\n",
    "    model.add(MaxPooling2D(pool_size=(2, 2)))\n",
    "    \n",
    "    model.add(Conv2D(64, (3, 3)))\n",
    "    model.add(Activation('relu'))\n",
    "    model.add(MaxPooling2D(pool_size=(2, 2)))\n",
    "    \n",
    "    model.add(Conv2D(64, (3, 3)))\n",
    "    model.add(Activation('relu'))\n",
    "    model.add(MaxPooling2D(pool_size=(2, 2)))\n",
    "\n",
    "    model.add(Flatten())  # this converts our 3D feature maps to 1D feature vectors\n",
    "    model.add(Dense(64))\n",
    "    model.add(Activation('relu'))\n",
    "    model.add(Dropout(dropout))\n",
    "    model.add(Dense(num_classes))\n",
    "    model.add(Activation('softmax'))\n",
    "    rms = RMSprop(lr = learning_rate,)\n",
    "    model.compile(loss='categorical_crossentropy',\n",
    "                optimizer= rms,\n",
    "                metrics=['accuracy'])\n",
    "\n",
    "    return model"
   ]
  },
  {
   "cell_type": "code",
   "execution_count": 4,
   "metadata": {},
   "outputs": [],
   "source": [
    "def get_data(folder):\n",
    "    X = []\n",
    "    y = []\n",
    "\n",
    "    for wbc_type in os.listdir(folder):\n",
    "        if not wbc_type.startswith('.'):\n",
    "            for image_filename in os.listdir(folder + wbc_type):\n",
    "                img_file = cv2.imread(folder + wbc_type + '/' + image_filename)\n",
    "                if img_file is not None:\n",
    "                    img_file = scipy.misc.imresize(arr=img_file, size=(240, 320, 3))\n",
    "                    img_arr = np.asarray(img_file)\n",
    "                    X.append(img_arr)\n",
    "                    y.append(wbc_type)\n",
    "    X = np.asarray(X)\n",
    "    y = np.asarray(y)\n",
    "    return X,y"
   ]
  },
  {
   "cell_type": "code",
   "execution_count": 5,
   "metadata": {
    "scrolled": true
   },
   "outputs": [
    {
     "name": "stderr",
     "output_type": "stream",
     "text": [
      "/usr/local/lib/python2.7/dist-packages/scipy/misc/pilutil.py:480: FutureWarning: Conversion of the second argument of issubdtype from `int` to `np.signedinteger` is deprecated. In future, it will be treated as `np.int64 == np.dtype(int).type`.\n",
      "  if issubdtype(ts, int):\n",
      "/usr/local/lib/python2.7/dist-packages/scipy/misc/pilutil.py:483: FutureWarning: Conversion of the second argument of issubdtype from `float` to `np.floating` is deprecated. In future, it will be treated as `np.float64 == np.dtype(float).type`.\n",
      "  elif issubdtype(type(size), float):\n"
     ]
    }
   ],
   "source": [
    "X_train, y_train = get_data(BASE_DIR + 'images/TRAIN/')\n",
    "X_test, y_test = get_data(BASE_DIR + 'images/TEST/')\n",
    "\n",
    "encoder = LabelEncoder()\n",
    "encoder.fit(y_train)\n",
    "encoded_y_train = encoder.transform(y_train)\n",
    "encoded_y_test = encoder.transform(y_test)\n",
    "\n",
    "y_train = np_utils.to_categorical(encoded_y_train)\n",
    "y_test = np_utils.to_categorical(encoded_y_test)"
   ]
  },
  {
   "cell_type": "code",
   "execution_count": 6,
   "metadata": {},
   "outputs": [
    {
     "name": "stdout",
     "output_type": "stream",
     "text": [
      "Train on 7965 samples, validate on 1992 samples\n",
      "Epoch 1/50\n",
      "7965/7965 [==============================] - 99s - loss: 1.1893 - acc: 0.4382 - val_loss: 2.5200 - val_acc: 0.0000e+00\n",
      "Epoch 2/50\n",
      "7965/7965 [==============================] - 89s - loss: 0.8604 - acc: 0.6488 - val_loss: 2.3164 - val_acc: 0.0000e+00\n",
      "Epoch 3/50\n",
      "7965/7965 [==============================] - 93s - loss: 0.6466 - acc: 0.7666 - val_loss: 1.7188 - val_acc: 0.0000e+00\n",
      "Epoch 4/50\n",
      "7965/7965 [==============================] - 93s - loss: 0.5121 - acc: 0.8067 - val_loss: 1.3355 - val_acc: 0.1792\n",
      "Epoch 5/50\n",
      "7965/7965 [==============================] - 97s - loss: 0.4385 - acc: 0.8453 - val_loss: 0.9748 - val_acc: 0.6210\n",
      "Epoch 6/50\n",
      "7965/7965 [==============================] - 98s - loss: 0.3612 - acc: 0.8748 - val_loss: 1.0329 - val_acc: 0.6155\n",
      "Epoch 7/50\n",
      "7965/7965 [==============================] - 96s - loss: 0.3994 - acc: 0.8775 - val_loss: 0.5980 - val_acc: 0.8138\n",
      "Epoch 8/50\n",
      "7965/7965 [==============================] - 100s - loss: 0.3222 - acc: 0.8918 - val_loss: 0.5365 - val_acc: 0.8308\n",
      "Epoch 9/50\n",
      "7965/7965 [==============================] - 97s - loss: 0.3170 - acc: 0.9027 - val_loss: 0.3567 - val_acc: 0.8855\n",
      "Epoch 10/50\n",
      "7965/7965 [==============================] - 94s - loss: 0.2840 - acc: 0.9070 - val_loss: 0.2605 - val_acc: 0.9111\n",
      "Epoch 11/50\n",
      "7965/7965 [==============================] - 98s - loss: 0.2731 - acc: 0.9125 - val_loss: 0.5671 - val_acc: 0.8158\n",
      "Epoch 12/50\n",
      "7965/7965 [==============================] - 97s - loss: 0.3061 - acc: 0.9181 - val_loss: 0.4759 - val_acc: 0.8238\n",
      "Epoch 13/50\n",
      "7965/7965 [==============================] - 99s - loss: 0.2715 - acc: 0.9271 - val_loss: 1.4053 - val_acc: 0.5703\n",
      "Epoch 14/50\n",
      "7965/7965 [==============================] - 98s - loss: 0.2665 - acc: 0.9248 - val_loss: 0.4511 - val_acc: 0.8579\n",
      "Epoch 15/50\n",
      "7965/7965 [==============================] - 98s - loss: 0.2590 - acc: 0.9288 - val_loss: 1.2595 - val_acc: 0.6024\n",
      "Epoch 16/50\n",
      "7965/7965 [==============================] - 97s - loss: 0.2764 - acc: 0.9267 - val_loss: 0.1826 - val_acc: 0.9498\n",
      "Epoch 17/50\n",
      "7965/7965 [==============================] - 99s - loss: 0.3094 - acc: 0.9321 - val_loss: 1.2754 - val_acc: 0.8394\n",
      "Epoch 18/50\n",
      "7965/7965 [==============================] - 98s - loss: 0.3244 - acc: 0.9321 - val_loss: 0.1164 - val_acc: 0.9654\n",
      "Epoch 19/50\n",
      "7965/7965 [==============================] - 101s - loss: 0.2958 - acc: 0.9303 - val_loss: 0.0879 - val_acc: 0.9639\n",
      "Epoch 20/50\n",
      "7965/7965 [==============================] - 101s - loss: 0.3242 - acc: 0.9304 - val_loss: 0.5632 - val_acc: 0.8986\n",
      "Epoch 21/50\n",
      "7965/7965 [==============================] - 98s - loss: 0.3064 - acc: 0.9342 - val_loss: 0.1666 - val_acc: 0.9342\n",
      "Epoch 22/50\n",
      "7965/7965 [==============================] - 99s - loss: 0.3195 - acc: 0.9312 - val_loss: 0.4012 - val_acc: 0.8865\n",
      "Epoch 23/50\n",
      "7965/7965 [==============================] - 97s - loss: 0.2304 - acc: 0.9406 - val_loss: 0.1574 - val_acc: 0.9483\n",
      "Epoch 24/50\n",
      "7965/7965 [==============================] - 93s - loss: 0.2732 - acc: 0.9357 - val_loss: 0.2302 - val_acc: 0.9423\n",
      "Epoch 25/50\n",
      "7965/7965 [==============================] - 90s - loss: 0.2722 - acc: 0.9365 - val_loss: 0.4551 - val_acc: 0.8956\n",
      "Epoch 26/50\n",
      "7965/7965 [==============================] - 90s - loss: 0.3771 - acc: 0.9328 - val_loss: 0.7005 - val_acc: 0.8680\n",
      "Epoch 27/50\n",
      "7965/7965 [==============================] - 90s - loss: 0.4463 - acc: 0.9360 - val_loss: 16.1181 - val_acc: 0.0000e+00\n",
      "Epoch 28/50\n",
      "7965/7965 [==============================] - 92s - loss: 1.3191 - acc: 0.8820 - val_loss: 0.6589 - val_acc: 0.8394\n",
      "Epoch 29/50\n",
      "7965/7965 [==============================] - 90s - loss: 0.2668 - acc: 0.9404 - val_loss: 0.1420 - val_acc: 0.9498\n",
      "Epoch 30/50\n",
      "7965/7965 [==============================] - 90s - loss: 0.3278 - acc: 0.9346 - val_loss: 0.7817 - val_acc: 0.8424\n",
      "Epoch 31/50\n",
      "7965/7965 [==============================] - 90s - loss: 0.2797 - acc: 0.9411 - val_loss: 0.2533 - val_acc: 0.9252\n",
      "Epoch 32/50\n",
      "7965/7965 [==============================] - 91s - loss: 0.3509 - acc: 0.9316 - val_loss: 0.2020 - val_acc: 0.9347\n",
      "Epoch 33/50\n",
      "7965/7965 [==============================] - 91s - loss: 0.3204 - acc: 0.9320 - val_loss: 0.5026 - val_acc: 0.8484\n",
      "Epoch 34/50\n",
      "7965/7965 [==============================] - 93s - loss: 0.2973 - acc: 0.9328 - val_loss: 0.3512 - val_acc: 0.9222\n",
      "Epoch 35/50\n",
      "7965/7965 [==============================] - 93s - loss: 0.2964 - acc: 0.9332 - val_loss: 0.1370 - val_acc: 0.9729\n",
      "Epoch 36/50\n",
      "7965/7965 [==============================] - 92s - loss: 0.3091 - acc: 0.9287 - val_loss: 0.7869 - val_acc: 0.8168\n",
      "Epoch 37/50\n",
      "7965/7965 [==============================] - 92s - loss: 0.3374 - acc: 0.9337 - val_loss: 0.5162 - val_acc: 0.9177\n",
      "Epoch 38/50\n",
      "7965/7965 [==============================] - 94s - loss: 0.5497 - acc: 0.9207 - val_loss: 1.2338 - val_acc: 0.8765\n",
      "Epoch 39/50\n",
      "7965/7965 [==============================] - 92s - loss: 0.3206 - acc: 0.9289 - val_loss: 6.5015 - val_acc: 0.5643\n",
      "Epoch 40/50\n",
      "7965/7965 [==============================] - 93s - loss: 0.4682 - acc: 0.9259 - val_loss: 4.3278 - val_acc: 0.5231\n",
      "Epoch 41/50\n",
      "7965/7965 [==============================] - 91s - loss: 0.3169 - acc: 0.9371 - val_loss: 1.3450 - val_acc: 0.7856\n",
      "Epoch 42/50\n",
      "7965/7965 [==============================] - 92s - loss: 0.5001 - acc: 0.9289 - val_loss: 2.3976 - val_acc: 0.5909\n",
      "Epoch 43/50\n",
      "7965/7965 [==============================] - 93s - loss: 0.3182 - acc: 0.9232 - val_loss: 0.8248 - val_acc: 0.8820\n",
      "Epoch 44/50\n",
      "7965/7965 [==============================] - 93s - loss: 0.3606 - acc: 0.9266 - val_loss: 0.4296 - val_acc: 0.8951\n",
      "Epoch 45/50\n",
      "7965/7965 [==============================] - 94s - loss: 0.9589 - acc: 0.8973 - val_loss: 2.3680 - val_acc: 0.7450\n",
      "Epoch 46/50\n",
      "7965/7965 [==============================] - 94s - loss: 0.4595 - acc: 0.9159 - val_loss: 0.0066 - val_acc: 0.9980\n",
      "Epoch 47/50\n",
      "7965/7965 [==============================] - 91s - loss: 0.4680 - acc: 0.9254 - val_loss: 0.8572 - val_acc: 0.8434\n",
      "Epoch 48/50\n",
      "7965/7965 [==============================] - 96s - loss: 0.4451 - acc: 0.9163 - val_loss: 0.8994 - val_acc: 0.8173\n",
      "Epoch 49/50\n",
      "7965/7965 [==============================] - 94s - loss: 0.4015 - acc: 0.9247 - val_loss: 11.0993 - val_acc: 0.0562\n",
      "Epoch 50/50\n",
      "7965/7965 [==============================] - 94s - loss: 0.4311 - acc: 0.9132 - val_loss: 1.3100 - val_acc: 0.8916\n"
     ]
    }
   ],
   "source": [
    "model = get_model()\n",
    "\n",
    "# fits the model on batches\n",
    "history = model.fit(\n",
    "    X_train,\n",
    "    y_train,\n",
    "    validation_split=0.2,\n",
    "    epochs=epochs,\n",
    "    shuffle=True,\n",
    "    batch_size=batch_size)\n",
    "\n",
    "model.save_weights('multiclass_epochs'+str(epochs)+'_lr'+str(learning_rate)+'_dropout'+str(dropout)+'.h5')"
   ]
  },
  {
   "cell_type": "code",
   "execution_count": 7,
   "metadata": {},
   "outputs": [
    {
     "name": "stdout",
     "output_type": "stream",
     "text": [
      "_________________________________________________________________\n",
      "Layer (type)                 Output Shape              Param #   \n",
      "=================================================================\n",
      "lambda_1 (Lambda)            (None, 240, 320, 3)       0         \n",
      "_________________________________________________________________\n",
      "conv2d_1 (Conv2D)            (None, 238, 318, 32)      896       \n",
      "_________________________________________________________________\n",
      "activation_1 (Activation)    (None, 238, 318, 32)      0         \n",
      "_________________________________________________________________\n",
      "max_pooling2d_1 (MaxPooling2 (None, 119, 159, 32)      0         \n",
      "_________________________________________________________________\n",
      "conv2d_2 (Conv2D)            (None, 117, 157, 32)      9248      \n",
      "_________________________________________________________________\n",
      "activation_2 (Activation)    (None, 117, 157, 32)      0         \n",
      "_________________________________________________________________\n",
      "max_pooling2d_2 (MaxPooling2 (None, 58, 78, 32)        0         \n",
      "_________________________________________________________________\n",
      "conv2d_3 (Conv2D)            (None, 56, 76, 64)        18496     \n",
      "_________________________________________________________________\n",
      "activation_3 (Activation)    (None, 56, 76, 64)        0         \n",
      "_________________________________________________________________\n",
      "max_pooling2d_3 (MaxPooling2 (None, 28, 38, 64)        0         \n",
      "_________________________________________________________________\n",
      "conv2d_4 (Conv2D)            (None, 26, 36, 64)        36928     \n",
      "_________________________________________________________________\n",
      "activation_4 (Activation)    (None, 26, 36, 64)        0         \n",
      "_________________________________________________________________\n",
      "max_pooling2d_4 (MaxPooling2 (None, 13, 18, 64)        0         \n",
      "_________________________________________________________________\n",
      "conv2d_5 (Conv2D)            (None, 11, 16, 64)        36928     \n",
      "_________________________________________________________________\n",
      "activation_5 (Activation)    (None, 11, 16, 64)        0         \n",
      "_________________________________________________________________\n",
      "max_pooling2d_5 (MaxPooling2 (None, 5, 8, 64)          0         \n",
      "_________________________________________________________________\n",
      "flatten_1 (Flatten)          (None, 2560)              0         \n",
      "_________________________________________________________________\n",
      "dense_1 (Dense)              (None, 64)                163904    \n",
      "_________________________________________________________________\n",
      "activation_6 (Activation)    (None, 64)                0         \n",
      "_________________________________________________________________\n",
      "dropout_1 (Dropout)          (None, 64)                0         \n",
      "_________________________________________________________________\n",
      "dense_2 (Dense)              (None, 4)                 260       \n",
      "_________________________________________________________________\n",
      "activation_7 (Activation)    (None, 4)                 0         \n",
      "=================================================================\n",
      "Total params: 266,660\n",
      "Trainable params: 266,660\n",
      "Non-trainable params: 0\n",
      "_________________________________________________________________\n",
      "None\n"
     ]
    }
   ],
   "source": [
    "print(model.summary())"
   ]
  },
  {
   "cell_type": "code",
   "execution_count": 8,
   "metadata": {},
   "outputs": [
    {
     "name": "stdout",
     "output_type": "stream",
     "text": [
      "Predicting on test data\n",
      "0.848411741053478\n"
     ]
    }
   ],
   "source": [
    "from sklearn.metrics import accuracy_score\n",
    "\n",
    "print('Predicting on test data')\n",
    "y_pred = np.rint(model.predict(X_test))\n",
    "\n",
    "print(accuracy_score(y_test, y_pred))"
   ]
  },
  {
   "cell_type": "code",
   "execution_count": 9,
   "metadata": {},
   "outputs": [
    {
     "data": {
      "image/png": "[encoded data removed]",
      "text/plain": [
       "<matplotlib.figure.Figure at 0x7f501d5e6f50>"
      ]
     },
     "metadata": {},
     "output_type": "display_data"
    }
   ],
   "source": [
    "def plot_learning_curve(history):\n",
    "    plt.plot(history.history['acc'])\n",
    "    plt.plot(history.history['val_acc'])\n",
    "    plt.title('model accuracy')\n",
    "    plt.ylabel('accuracy')\n",
    "    plt.xlabel('epoch')\n",
    "    plt.legend(['train', 'test'], loc='upper left')\n",
    "    plt.savefig('./accuracy_curve.png')\n",
    "    plt.clf()\n",
    "    # summarize history for loss\n",
    "    plt.plot(history.history['loss'])\n",
    "    plt.plot(history.history['val_loss'])\n",
    "    plt.title('model loss')\n",
    "    plt.ylabel('loss')\n",
    "    plt.xlabel('epoch')\n",
    "    plt.legend(['train', 'test'], loc='upper left')\n",
    "    plt.savefig('./loss_curve_multiclass.png')\n",
    "\n",
    "plot_learning_curve(history)"
   ]
  },
  {
   "cell_type": "code",
   "execution_count": 10,
   "metadata": {},
   "outputs": [
    {
     "name": "stdout",
     "output_type": "stream",
     "text": [
      "[[473   0   0 150]\n",
      " [  0 618   0   2]\n",
      " [  4   0 465 151]\n",
      " [ 69   0   1 554]]\n"
     ]
    }
   ],
   "source": [
    "from sklearn.metrics import confusion_matrix\n",
    "\n",
    "y_pred_unencoded = np.argmax(y_pred, axis=1)\n",
    "y_test_unencoded = np.argmax(y_test, axis=1)\n",
    "\n",
    "print(confusion_matrix(y_test_unencoded, y_pred_unencoded))"
   ]
  },
  {
   "cell_type": "code",
   "execution_count": 11,
   "metadata": {},
   "outputs": [
    {
     "name": "stdout",
     "output_type": "stream",
     "text": [
      "precision: 0.8776488792664593\n",
      "recall: 0.8484560602198333\n",
      "fbeta_score: 0.8530299735809082\n",
      "support: None\n"
     ]
    }
   ],
   "source": [
    "from sklearn.metrics import precision_recall_fscore_support\n",
    "\n",
    "\n",
    "precision,recall,fbeta_score,support = precision_recall_fscore_support(y_test_unencoded, y_pred_unencoded, average='macro')\n",
    "print 'precision: '+ str(precision)\n",
    "print 'recall: ' + str(recall)\n",
    "print 'fbeta_score: ' + str(fbeta_score)\n",
    "print 'support: '+ str(support)"
   ]
  }
 ],
 "metadata": {
  "kernelspec": {
   "display_name": "Python 2",
   "language": "python",
   "name": "python2"
  },
  "language_info": {
   "codemirror_mode": {
    "name": "ipython",
    "version": 2
   },
   "file_extension": ".py",
   "mimetype": "text/x-python",
   "name": "python",
   "nbconvert_exporter": "python",
   "pygments_lexer": "ipython2",
   "version": "2.7.12"
  }
 },
 "nbformat": 4,
 "nbformat_minor": 2
}
