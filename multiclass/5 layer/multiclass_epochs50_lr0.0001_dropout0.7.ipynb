{
 "cells": [
  {
   "cell_type": "code",
   "execution_count": 1,
   "metadata": {},
   "outputs": [
    {
     "name": "stderr",
     "output_type": "stream",
     "text": [
      "/usr/local/lib/python2.7/dist-packages/h5py/__init__.py:36: FutureWarning: Conversion of the second argument of issubdtype from `float` to `np.floating` is deprecated. In future, it will be treated as `np.float64 == np.dtype(float).type`.\n",
      "  from ._conv import register_converters as _register_converters\n",
      "Using TensorFlow backend.\n",
      "/usr/local/lib/python2.7/dist-packages/sklearn/cross_validation.py:44: DeprecationWarning: This module was deprecated in version 0.18 in favor of the model_selection module into which all the refactored classes and functions are moved. Also note that the interface of the new CV iterators are different from that of this module. This module will be removed in 0.20.\n",
      "  \"This module will be removed in 0.20.\", DeprecationWarning)\n"
     ]
    }
   ],
   "source": [
    "import numpy as np\n",
    "from keras.models import Sequential\n",
    "from keras.optimizers import RMSprop\n",
    "from keras.layers import Dense, Dropout, Activation, Flatten\n",
    "from keras.layers import Conv2D, MaxPooling2D, Lambda\n",
    "from keras.layers import Dense\n",
    "from keras.wrappers.scikit_learn import KerasClassifier\n",
    "from keras.utils import np_utils\n",
    "from keras.preprocessing.image import ImageDataGenerator\n",
    "from sklearn.model_selection import cross_val_score\n",
    "from sklearn.model_selection import KFold\n",
    "from sklearn.preprocessing import LabelEncoder\n",
    "from sklearn.pipeline import Pipeline\n",
    "from sklearn.cross_validation import train_test_split\n",
    "from sklearn.metrics import roc_curve, auc\n",
    "import csv\n",
    "import cv2\n",
    "import scipy\n",
    "import os\n",
    "\n",
    "%matplotlib inline\n",
    "import matplotlib.pyplot as plt"
   ]
  },
  {
   "cell_type": "code",
   "execution_count": 2,
   "metadata": {},
   "outputs": [],
   "source": [
    "num_classes = 4\n",
    "epochs = 50\n",
    "dropout =0.7\n",
    "learning_rate = 0.0001\n",
    "# BASE_PATH = '/home/ec2-user/cell_classifier/'\n",
    "BASE_DIR = '../'\n",
    "batch_size = 32"
   ]
  },
  {
   "cell_type": "code",
   "execution_count": 3,
   "metadata": {},
   "outputs": [],
   "source": [
    "def get_model():\n",
    "    model = Sequential()\n",
    "    model.add(Lambda(lambda x: x/127.5 - 1., input_shape=(240, 320, 3), output_shape=(240, 320, 3)))\n",
    "    model.add(Conv2D(32, (3, 3), input_shape=(240, 320, 3)))\n",
    "    model.add(Activation('relu'))\n",
    "    model.add(MaxPooling2D(pool_size=(2, 2)))\n",
    "\n",
    "    model.add(Conv2D(32, (3, 3)))\n",
    "    model.add(Activation('relu'))\n",
    "    model.add(MaxPooling2D(pool_size=(2, 2)))\n",
    "\n",
    "    model.add(Conv2D(64, (3, 3)))\n",
    "    model.add(Activation('relu'))\n",
    "    model.add(MaxPooling2D(pool_size=(2, 2)))\n",
    "    \n",
    "    model.add(Conv2D(64, (3, 3)))\n",
    "    model.add(Activation('relu'))\n",
    "    model.add(MaxPooling2D(pool_size=(2, 2)))\n",
    "    \n",
    "    model.add(Conv2D(64, (3, 3)))\n",
    "    model.add(Activation('relu'))\n",
    "    model.add(MaxPooling2D(pool_size=(2, 2)))\n",
    "\n",
    "    model.add(Flatten())  # this converts our 3D feature maps to 1D feature vectors\n",
    "    model.add(Dense(64))\n",
    "    model.add(Activation('relu'))\n",
    "    model.add(Dropout(dropout))\n",
    "    model.add(Dense(num_classes))\n",
    "    model.add(Activation('softmax'))\n",
    "    rms = RMSprop(lr = learning_rate,)\n",
    "    model.compile(loss='categorical_crossentropy',\n",
    "                optimizer= rms,\n",
    "                metrics=['accuracy'])\n",
    "\n",
    "    return model"
   ]
  },
  {
   "cell_type": "code",
   "execution_count": 4,
   "metadata": {},
   "outputs": [],
   "source": [
    "def get_data(folder):\n",
    "    X = []\n",
    "    y = []\n",
    "\n",
    "    for wbc_type in os.listdir(folder):\n",
    "        if not wbc_type.startswith('.'):\n",
    "            for image_filename in os.listdir(folder + wbc_type):\n",
    "                img_file = cv2.imread(folder + wbc_type + '/' + image_filename)\n",
    "                if img_file is not None:\n",
    "                    img_file = scipy.misc.imresize(arr=img_file, size=(240, 320, 3))\n",
    "                    img_arr = np.asarray(img_file)\n",
    "                    X.append(img_arr)\n",
    "                    y.append(wbc_type)\n",
    "    X = np.asarray(X)\n",
    "    y = np.asarray(y)\n",
    "    return X,y"
   ]
  },
  {
   "cell_type": "code",
   "execution_count": 5,
   "metadata": {
    "scrolled": true
   },
   "outputs": [
    {
     "name": "stderr",
     "output_type": "stream",
     "text": [
      "/usr/local/lib/python2.7/dist-packages/scipy/misc/pilutil.py:480: FutureWarning: Conversion of the second argument of issubdtype from `int` to `np.signedinteger` is deprecated. In future, it will be treated as `np.int64 == np.dtype(int).type`.\n",
      "  if issubdtype(ts, int):\n",
      "/usr/local/lib/python2.7/dist-packages/scipy/misc/pilutil.py:483: FutureWarning: Conversion of the second argument of issubdtype from `float` to `np.floating` is deprecated. In future, it will be treated as `np.float64 == np.dtype(float).type`.\n",
      "  elif issubdtype(type(size), float):\n"
     ]
    }
   ],
   "source": [
    "X_train, y_train = get_data(BASE_DIR + 'images/TRAIN/')\n",
    "X_test, y_test = get_data(BASE_DIR + 'images/TEST/')\n",
    "\n",
    "encoder = LabelEncoder()\n",
    "encoder.fit(y_train)\n",
    "encoded_y_train = encoder.transform(y_train)\n",
    "encoded_y_test = encoder.transform(y_test)\n",
    "\n",
    "y_train = np_utils.to_categorical(encoded_y_train)\n",
    "y_test = np_utils.to_categorical(encoded_y_test)"
   ]
  },
  {
   "cell_type": "code",
   "execution_count": 6,
   "metadata": {},
   "outputs": [
    {
     "name": "stdout",
     "output_type": "stream",
     "text": [
      "Train on 7965 samples, validate on 1992 samples\n",
      "Epoch 1/50\n",
      "7965/7965 [==============================] - 95s - loss: 1.3070 - acc: 0.3111 - val_loss: 2.2822 - val_acc: 0.0000e+00\n",
      "Epoch 2/50\n",
      "7965/7965 [==============================] - 95s - loss: 1.2909 - acc: 0.3311 - val_loss: 2.2098 - val_acc: 0.0000e+00\n",
      "Epoch 3/50\n",
      "7965/7965 [==============================] - 97s - loss: 1.2260 - acc: 0.4216 - val_loss: 2.4040 - val_acc: 0.0000e+00\n",
      "Epoch 4/50\n",
      "7965/7965 [==============================] - 97s - loss: 1.0960 - acc: 0.5299 - val_loss: 2.4996 - val_acc: 0.0000e+00\n",
      "Epoch 5/50\n",
      "7965/7965 [==============================] - 97s - loss: 0.9725 - acc: 0.5927 - val_loss: 2.4124 - val_acc: 0.0000e+00\n",
      "Epoch 6/50\n",
      "7965/7965 [==============================] - 100s - loss: 0.8805 - acc: 0.6498 - val_loss: 2.3542 - val_acc: 0.0000e+00\n",
      "Epoch 7/50\n",
      "7965/7965 [==============================] - 97s - loss: 0.8095 - acc: 0.6854 - val_loss: 2.4401 - val_acc: 0.0000e+00\n",
      "Epoch 8/50\n",
      "7965/7965 [==============================] - 98s - loss: 0.7709 - acc: 0.7028 - val_loss: 2.4323 - val_acc: 0.0000e+00\n",
      "Epoch 9/50\n",
      "7965/7965 [==============================] - 98s - loss: 0.7191 - acc: 0.7379 - val_loss: 2.3951 - val_acc: 0.0000e+00\n",
      "Epoch 10/50\n",
      "7965/7965 [==============================] - 99s - loss: 0.6781 - acc: 0.7470 - val_loss: 2.5797 - val_acc: 0.0000e+00\n",
      "Epoch 11/50\n",
      "7965/7965 [==============================] - 98s - loss: 0.6456 - acc: 0.7608 - val_loss: 2.5176 - val_acc: 0.0000e+00\n",
      "Epoch 12/50\n",
      "7965/7965 [==============================] - 99s - loss: 0.6039 - acc: 0.7739 - val_loss: 2.4420 - val_acc: 0.0000e+00\n",
      "Epoch 13/50\n",
      "7965/7965 [==============================] - 98s - loss: 0.5730 - acc: 0.7901 - val_loss: 1.9732 - val_acc: 0.0527\n",
      "Epoch 14/50\n",
      "7965/7965 [==============================] - 98s - loss: 0.5436 - acc: 0.8016 - val_loss: 1.7276 - val_acc: 0.1230\n",
      "Epoch 15/50\n",
      "7965/7965 [==============================] - 96s - loss: 0.5087 - acc: 0.8093 - val_loss: 1.5983 - val_acc: 0.2470\n",
      "Epoch 16/50\n",
      "7965/7965 [==============================] - 99s - loss: 0.4794 - acc: 0.8190 - val_loss: 1.3959 - val_acc: 0.3805\n",
      "Epoch 17/50\n",
      "7965/7965 [==============================] - 97s - loss: 0.4447 - acc: 0.8316 - val_loss: 1.3083 - val_acc: 0.4749\n",
      "Epoch 18/50\n",
      "7965/7965 [==============================] - 99s - loss: 0.4229 - acc: 0.8394 - val_loss: 1.0544 - val_acc: 0.6160\n",
      "Epoch 19/50\n",
      "7965/7965 [==============================] - 98s - loss: 0.3991 - acc: 0.8480 - val_loss: 1.0141 - val_acc: 0.6320\n",
      "Epoch 20/50\n",
      "7965/7965 [==============================] - 98s - loss: 0.3721 - acc: 0.8594 - val_loss: 1.3730 - val_acc: 0.5040\n",
      "Epoch 21/50\n",
      "7965/7965 [==============================] - 98s - loss: 0.3498 - acc: 0.8701 - val_loss: 0.9083 - val_acc: 0.6190\n",
      "Epoch 22/50\n",
      "7965/7965 [==============================] - 97s - loss: 0.3371 - acc: 0.8711 - val_loss: 0.8232 - val_acc: 0.6682\n",
      "Epoch 23/50\n",
      "7965/7965 [==============================] - 100s - loss: 0.3191 - acc: 0.8805 - val_loss: 0.7176 - val_acc: 0.7565\n",
      "Epoch 24/50\n",
      "7965/7965 [==============================] - 98s - loss: 0.3015 - acc: 0.8845 - val_loss: 0.9428 - val_acc: 0.5758\n",
      "Epoch 25/50\n",
      "7965/7965 [==============================] - 100s - loss: 0.2909 - acc: 0.8883 - val_loss: 0.7374 - val_acc: 0.7078\n",
      "Epoch 26/50\n",
      "7965/7965 [==============================] - 97s - loss: 0.2785 - acc: 0.8914 - val_loss: 0.4241 - val_acc: 0.8434\n",
      "Epoch 27/50\n",
      "7965/7965 [==============================] - 96s - loss: 0.2669 - acc: 0.8960 - val_loss: 0.8233 - val_acc: 0.6807\n",
      "Epoch 28/50\n",
      "7965/7965 [==============================] - 98s - loss: 0.2651 - acc: 0.9057 - val_loss: 0.7011 - val_acc: 0.7284\n",
      "Epoch 29/50\n",
      "7965/7965 [==============================] - 98s - loss: 0.2541 - acc: 0.9067 - val_loss: 0.4978 - val_acc: 0.7927\n",
      "Epoch 30/50\n",
      "7965/7965 [==============================] - 99s - loss: 0.2456 - acc: 0.9087 - val_loss: 0.6612 - val_acc: 0.7068\n",
      "Epoch 31/50\n",
      "7965/7965 [==============================] - 99s - loss: 0.2368 - acc: 0.9149 - val_loss: 0.5378 - val_acc: 0.8454\n",
      "Epoch 32/50\n",
      "7965/7965 [==============================] - 100s - loss: 0.2373 - acc: 0.9121 - val_loss: 0.6595 - val_acc: 0.7711\n",
      "Epoch 33/50\n",
      "7965/7965 [==============================] - 99s - loss: 0.2199 - acc: 0.9169 - val_loss: 0.4905 - val_acc: 0.7866\n",
      "Epoch 34/50\n",
      "7965/7965 [==============================] - 98s - loss: 0.2246 - acc: 0.9175 - val_loss: 0.3495 - val_acc: 0.8449\n",
      "Epoch 35/50\n",
      "7965/7965 [==============================] - 99s - loss: 0.2121 - acc: 0.9239 - val_loss: 0.6924 - val_acc: 0.7189\n",
      "Epoch 36/50\n",
      "7965/7965 [==============================] - 100s - loss: 0.2079 - acc: 0.9243 - val_loss: 0.2497 - val_acc: 0.8976\n",
      "Epoch 37/50\n",
      "7965/7965 [==============================] - 96s - loss: 0.2017 - acc: 0.9258 - val_loss: 0.3040 - val_acc: 0.8665\n",
      "Epoch 38/50\n",
      "7965/7965 [==============================] - 99s - loss: 0.2003 - acc: 0.9257 - val_loss: 0.3518 - val_acc: 0.8363\n",
      "Epoch 39/50\n",
      "7965/7965 [==============================] - 100s - loss: 0.2025 - acc: 0.9243 - val_loss: 0.2876 - val_acc: 0.8946\n",
      "Epoch 40/50\n",
      "7965/7965 [==============================] - 96s - loss: 0.1932 - acc: 0.9313 - val_loss: 0.3074 - val_acc: 0.8695\n",
      "Epoch 41/50\n",
      "7965/7965 [==============================] - 98s - loss: 0.1936 - acc: 0.9320 - val_loss: 0.3657 - val_acc: 0.8454\n",
      "Epoch 42/50\n",
      "7965/7965 [==============================] - 100s - loss: 0.1848 - acc: 0.9311 - val_loss: 0.3317 - val_acc: 0.8961\n",
      "Epoch 43/50\n",
      "7965/7965 [==============================] - 100s - loss: 0.1754 - acc: 0.9357 - val_loss: 0.2235 - val_acc: 0.9066\n",
      "Epoch 44/50\n",
      "7965/7965 [==============================] - 102s - loss: 0.1852 - acc: 0.9340 - val_loss: 0.3915 - val_acc: 0.8619\n",
      "Epoch 45/50\n",
      "7965/7965 [==============================] - 99s - loss: 0.1758 - acc: 0.9358 - val_loss: 0.3413 - val_acc: 0.8454\n",
      "Epoch 46/50\n",
      "7965/7965 [==============================] - 98s - loss: 0.1742 - acc: 0.9351 - val_loss: 0.2530 - val_acc: 0.8906\n",
      "Epoch 47/50\n",
      "7965/7965 [==============================] - 95s - loss: 0.1800 - acc: 0.9363 - val_loss: 0.3369 - val_acc: 0.8479\n",
      "Epoch 48/50\n",
      "7965/7965 [==============================] - 100s - loss: 0.1661 - acc: 0.9420 - val_loss: 0.3553 - val_acc: 0.8459\n",
      "Epoch 49/50\n",
      "7965/7965 [==============================] - 98s - loss: 0.1732 - acc: 0.9394 - val_loss: 0.2687 - val_acc: 0.8785\n",
      "Epoch 50/50\n",
      "7965/7965 [==============================] - 98s - loss: 0.1615 - acc: 0.9395 - val_loss: 0.1405 - val_acc: 0.9518\n"
     ]
    }
   ],
   "source": [
    "model = get_model()\n",
    "\n",
    "# fits the model on batches\n",
    "history = model.fit(\n",
    "    X_train,\n",
    "    y_train,\n",
    "    validation_split=0.2,\n",
    "    epochs=epochs,\n",
    "    shuffle=True,\n",
    "    batch_size=batch_size)\n",
    "\n",
    "model.save_weights('multiclass_epochs'+str(epochs)+'_lr'+str(learning_rate)+'_dropout'+str(dropout)+'.h5')"
   ]
  },
  {
   "cell_type": "code",
   "execution_count": 7,
   "metadata": {},
   "outputs": [
    {
     "name": "stdout",
     "output_type": "stream",
     "text": [
      "_________________________________________________________________\n",
      "Layer (type)                 Output Shape              Param #   \n",
      "=================================================================\n",
      "lambda_1 (Lambda)            (None, 240, 320, 3)       0         \n",
      "_________________________________________________________________\n",
      "conv2d_1 (Conv2D)            (None, 238, 318, 32)      896       \n",
      "_________________________________________________________________\n",
      "activation_1 (Activation)    (None, 238, 318, 32)      0         \n",
      "_________________________________________________________________\n",
      "max_pooling2d_1 (MaxPooling2 (None, 119, 159, 32)      0         \n",
      "_________________________________________________________________\n",
      "conv2d_2 (Conv2D)            (None, 117, 157, 32)      9248      \n",
      "_________________________________________________________________\n",
      "activation_2 (Activation)    (None, 117, 157, 32)      0         \n",
      "_________________________________________________________________\n",
      "max_pooling2d_2 (MaxPooling2 (None, 58, 78, 32)        0         \n",
      "_________________________________________________________________\n",
      "conv2d_3 (Conv2D)            (None, 56, 76, 64)        18496     \n",
      "_________________________________________________________________\n",
      "activation_3 (Activation)    (None, 56, 76, 64)        0         \n",
      "_________________________________________________________________\n",
      "max_pooling2d_3 (MaxPooling2 (None, 28, 38, 64)        0         \n",
      "_________________________________________________________________\n",
      "conv2d_4 (Conv2D)            (None, 26, 36, 64)        36928     \n",
      "_________________________________________________________________\n",
      "activation_4 (Activation)    (None, 26, 36, 64)        0         \n",
      "_________________________________________________________________\n",
      "max_pooling2d_4 (MaxPooling2 (None, 13, 18, 64)        0         \n",
      "_________________________________________________________________\n",
      "conv2d_5 (Conv2D)            (None, 11, 16, 64)        36928     \n",
      "_________________________________________________________________\n",
      "activation_5 (Activation)    (None, 11, 16, 64)        0         \n",
      "_________________________________________________________________\n",
      "max_pooling2d_5 (MaxPooling2 (None, 5, 8, 64)          0         \n",
      "_________________________________________________________________\n",
      "flatten_1 (Flatten)          (None, 2560)              0         \n",
      "_________________________________________________________________\n",
      "dense_1 (Dense)              (None, 64)                163904    \n",
      "_________________________________________________________________\n",
      "activation_6 (Activation)    (None, 64)                0         \n",
      "_________________________________________________________________\n",
      "dropout_1 (Dropout)          (None, 64)                0         \n",
      "_________________________________________________________________\n",
      "dense_2 (Dense)              (None, 4)                 260       \n",
      "_________________________________________________________________\n",
      "activation_7 (Activation)    (None, 4)                 0         \n",
      "=================================================================\n",
      "Total params: 266,660\n",
      "Trainable params: 266,660\n",
      "Non-trainable params: 0\n",
      "_________________________________________________________________\n",
      "None\n"
     ]
    }
   ],
   "source": [
    "print(model.summary())"
   ]
  },
  {
   "cell_type": "code",
   "execution_count": 8,
   "metadata": {},
   "outputs": [
    {
     "name": "stdout",
     "output_type": "stream",
     "text": [
      "Predicting on test data\n",
      "0.8383594692400482\n"
     ]
    }
   ],
   "source": [
    "from sklearn.metrics import accuracy_score\n",
    "\n",
    "print('Predicting on test data')\n",
    "y_pred = np.rint(model.predict(X_test))\n",
    "\n",
    "print(accuracy_score(y_test, y_pred))"
   ]
  },
  {
   "cell_type": "code",
   "execution_count": 9,
   "metadata": {},
   "outputs": [
    {
     "data": {
      "image/png": "[encoded data removed]",
      "text/plain": [
       "<matplotlib.figure.Figure at 0x7f05de6ede90>"
      ]
     },
     "metadata": {},
     "output_type": "display_data"
    }
   ],
   "source": [
    "def plot_learning_curve(history):\n",
    "    plt.plot(history.history['acc'])\n",
    "    plt.plot(history.history['val_acc'])\n",
    "    plt.title('model accuracy')\n",
    "    plt.ylabel('accuracy')\n",
    "    plt.xlabel('epoch')\n",
    "    plt.legend(['train', 'test'], loc='upper left')\n",
    "    plt.savefig('./accuracy_curve.png')\n",
    "    plt.clf()\n",
    "    # summarize history for loss\n",
    "    plt.plot(history.history['loss'])\n",
    "    plt.plot(history.history['val_loss'])\n",
    "    plt.title('model loss')\n",
    "    plt.ylabel('loss')\n",
    "    plt.xlabel('epoch')\n",
    "    plt.legend(['train', 'test'], loc='upper left')\n",
    "    plt.savefig('./loss_curve_multiclass.png')\n",
    "\n",
    "plot_learning_curve(history)"
   ]
  },
  {
   "cell_type": "code",
   "execution_count": 10,
   "metadata": {},
   "outputs": [
    {
     "name": "stdout",
     "output_type": "stream",
     "text": [
      "[[468   0   0 155]\n",
      " [ 11 598  10   1]\n",
      " [  6   0 470 144]\n",
      " [ 60   8   0 556]]\n"
     ]
    }
   ],
   "source": [
    "from sklearn.metrics import confusion_matrix\n",
    "\n",
    "y_pred_unencoded = np.argmax(y_pred, axis=1)\n",
    "y_test_unencoded = np.argmax(y_test, axis=1)\n",
    "\n",
    "print(confusion_matrix(y_test_unencoded, y_pred_unencoded))"
   ]
  },
  {
   "cell_type": "code",
   "execution_count": 11,
   "metadata": {},
   "outputs": [
    {
     "name": "stdout",
     "output_type": "stream",
     "text": [
      "precision: 0.8685534132863256\n",
      "recall: 0.8412025346285948\n",
      "fbeta_score: 0.8456992120889637\n",
      "support: None\n"
     ]
    }
   ],
   "source": [
    "from sklearn.metrics import precision_recall_fscore_support\n",
    "\n",
    "\n",
    "precision,recall,fbeta_score,support = precision_recall_fscore_support(y_test_unencoded, y_pred_unencoded, average='macro')\n",
    "print 'precision: '+ str(precision)\n",
    "print 'recall: ' + str(recall)\n",
    "print 'fbeta_score: ' + str(fbeta_score)\n",
    "print 'support: '+ str(support)"
   ]
  }
 ],
 "metadata": {
  "kernelspec": {
   "display_name": "Python 2",
   "language": "python",
   "name": "python2"
  },
  "language_info": {
   "codemirror_mode": {
    "name": "ipython",
    "version": 2
   },
   "file_extension": ".py",
   "mimetype": "text/x-python",
   "name": "python",
   "nbconvert_exporter": "python",
   "pygments_lexer": "ipython2",
   "version": "2.7.12"
  }
 },
 "nbformat": 4,
 "nbformat_minor": 2
}
